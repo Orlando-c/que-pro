{
 "cells": [
  {
   "cell_type": "code",
   "execution_count": null,
   "metadata": {},
   "outputs": [],
   "source": [
    "Kathyleen - Born in vietnam"
   ]
  },
  {
   "attachments": {},
   "cell_type": "markdown",
   "metadata": {},
   "source": [
    "Kathyleen \n",
    "- Born in vietnam\n",
    "\n",
    "Career\n",
    "- Worked in finance (wells fargo)\n",
    "- Switched carrers to technology\n",
    "- Worked at Qualcomm\n",
    "- Senior director of sales\n",
    "\n",
    "\n",
    "Company mission statements\n",
    "\n",
    "HP Inc - Create technology that makes life better for everyone everywhere\n",
    "\n",
    "Qualcomm - Inventing the tech the world loves\n",
    "\n",
    "Thermo Fisher Scientific - Enable our cusomers to to make the world healthier, cleaner, and safer.\n",
    "\n",
    "Similar in the way they all advocate for the wellbeing of people and earth\n",
    "\n",
    "Hundereds of millions of people are affected by Qualcomm\n",
    "125,000 employees at thermo fisher\n",
    "7000 R&D scientists\n",
    "1.5 billion invested into R&D\n",
    "40 billion investment return\n",
    "\n",
    "Similarly, Scrum Masters communicate with other developers and leaders to get things done.\n",
    "\n",
    "Kris Porter \n",
    "- Went to livermore high\n",
    "- Enrolled UCLA\n",
    "- Bachelors Masters in electrical engineering\n",
    "- Research for embedded networked sensors\n",
    "-- Networked infomechanical systems\n",
    "-- Introduced to Linux\n",
    "- Sustem engineer at a startup (GPM)(2010)\n",
    "- Intro to devops, transition to Qualcomm (2014)\n",
    "- Working at twitter (2021)\n",
    "- Request from client goes to server, server recieved message, posts and requests gets sent back \n",
    "- CCNA Training\n",
    "Machine learning and deep learning\n",
    "python (Udemy)\n",
    "data structures\n",
    "\n",
    "projects worked on\n",
    "Streaming media infastructure\n",
    "analytics infastructure\n",
    "\n",
    "Twitter projects\n",
    "New DataCenter Deployment\n",
    "Migrating HomeTimeline to GraphQL\n",
    "\n"
   ]
  }
 ],
 "metadata": {
  "kernelspec": {
   "display_name": "Python 3",
   "language": "python",
   "name": "python3"
  },
  "language_info": {
   "name": "python",
   "version": "3.10.6 (main, Nov  2 2022, 18:53:38) [GCC 11.3.0]"
  },
  "orig_nbformat": 4,
  "vscode": {
   "interpreter": {
    "hash": "916dbcbb3f70747c44a77c7bcd40155683ae19c65e1c03b4aa3499c5328201f1"
   }
  }
 },
 "nbformat": 4,
 "nbformat_minor": 2
}
