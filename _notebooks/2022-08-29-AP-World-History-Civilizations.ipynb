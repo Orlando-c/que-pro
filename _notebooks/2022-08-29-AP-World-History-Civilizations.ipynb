{
 "cells": [
  {
   "cell_type": "markdown",
   "metadata": {},
   "source": [
    "# Different Civilizations And Their Attributes (APWH)\n",
    "> Notes of a different class using python to make a questionare\n",
    "\n",
    "- toc: true \n",
    "- badges: true\n",
    "- comments: true\n",
    "- categories: [APWH]"
   ]
  },
  {
   "cell_type": "code",
   "execution_count": 8,
   "metadata": {},
   "outputs": [
    {
     "name": "stdout",
     "output_type": "stream",
     "text": [
      "For  1  points(s): What was the name of the civilization type that primarily used animals as a food source, were stationary, and egalitarian?\n",
      "You got it! You answered pastoral for 1 point(s), Your point total is 1 point(s)\n",
      "For  1  points(s): What was the name of the civilization type that was focused on growing food, stationary, and also egalitarian?\n",
      "You got it! You answered agricultural for 1 point(s), Your point total is 2 point(s)\n",
      "For  1  points(s): What was the name of the civilization type that was found primarily in the western hemisphere, used more primative ways to get food, and does not fall into any category of social status?\n",
      "You got it! You answered chief-dom for 1 point(s), Your point total is 3 point(s)\n",
      "These were the early types of societies and were the dawn of todays civilizations\n"
     ]
    }
   ],
   "source": [
    "questions = [\n",
    "    \"What was the name of the civilization type that primarily used animals as a food source, were stationary, and egalitarian?\", \"What was the name of the civilization type that was focused on growing food, stationary, and also egalitarian?\", \"What was the name of the civilization type that was found primarily in the western hemisphere, used more primative ways to get food, and does not fall into any category of social status?\"]\n",
    "answers = [\n",
    "    \"pastoral\", \"agricultural\", \"chief-dom\"]\n",
    "pointValues = [ 1, 1, 1]\n",
    "\n",
    "level = 0\n",
    "points = 0\n",
    "\n",
    "for question in questions:\n",
    "    print(\"For \", pointValues[level], \" points(s): \" + question)\n",
    "    guess = str(input())\n",
    "\n",
    "    if(guess == answers[level]):\n",
    "        points+=pointValues[level]\n",
    "        print(\"You got it! You answered \" + guess +\" for \"+ str(pointValues[level]) + \" point(s), Your point total is \" +str(points) + \" point(s)\")\n",
    "    else:\n",
    "        print(\"Wrong! You answered \" + guess +\" for \"+ str(pointValues[level]) + \" point(s), The correct response was \" + answers[level]+ \" You currently have \" + str(points) + \" point(s)\")\n",
    "    \n",
    "    level+=1\n",
    "\n",
    "print(\"These were the early types of societies and were the dawn of todays civilizations\")"
   ]
  }
 ],
 "metadata": {
  "kernelspec": {
   "display_name": "Python 3.8.10 64-bit",
   "language": "python",
   "name": "python3"
  },
  "language_info": {
   "codemirror_mode": {
    "name": "ipython",
    "version": 3
   },
   "file_extension": ".py",
   "mimetype": "text/x-python",
   "name": "python",
   "nbconvert_exporter": "python",
   "pygments_lexer": "ipython3",
   "version": "3.8.10"
  },
  "orig_nbformat": 4,
  "vscode": {
   "interpreter": {
    "hash": "916dbcbb3f70747c44a77c7bcd40155683ae19c65e1c03b4aa3499c5328201f1"
   }
  }
 },
 "nbformat": 4,
 "nbformat_minor": 2
}
