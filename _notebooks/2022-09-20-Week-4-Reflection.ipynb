{
 "cells": [
  {
   "cell_type": "markdown",
   "metadata": {},
   "source": [
    "|Main Ideas|Purpose|Implementation|\n",
    "|-|-|-|\n",
    "|Program Purpose|So I can preview changes to my fastpages and flask portfolio without having to commit|Follow instructions to create local host and also be able to sync fastpages and flask portfolio|\n",
    "|Procedural Abstraction|When you make changes in your repositories in VsCode or Github, the changes are near instantaneous|Followed the instructions to achieve maximum available opportunity|\n",
    "|Testing|Make sure both operations are fully functional|Run through all tests and prepare the operations for week 4 recording and are ready to go for next week!|\n",
    "|Extra|This week was also focused on mental health and taking breaks to better help ourselves|This week I tried multiple ways to relax and also do extra homework on the weekend to relieve myself|\n"
   ]
  },
  {
   "cell_type": "code",
   "execution_count": null,
   "metadata": {},
   "outputs": [],
   "source": [
    "print(\"I do this because i dont like .md formatting\")"
   ]
  }
 ],
 "metadata": {
  "language_info": {
   "name": "python"
  },
  "orig_nbformat": 4
 },
 "nbformat": 4,
 "nbformat_minor": 2
}
