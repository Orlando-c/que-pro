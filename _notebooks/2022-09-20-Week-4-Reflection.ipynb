{
 "cells": [
  {
   "attachments": {},
   "cell_type": "markdown",
   "metadata": {},
   "source": [
    "# Agile Methodology\n",
    "> School board stuff"
   ]
  },
  {
   "cell_type": "markdown",
   "metadata": {},
   "source": [
    "|Main Ideas|Purpose|Implementation|\n",
    "|-|-|-|\n",
    "|Program Purpose|So I can preview changes to my fastpages and flask portfolio without having to commit|Follow instructions to create local host and also be able to sync fastpages and flask portfolio|\n",
    "|Procedural Abstraction|When you make changes in your repositories in VsCode or Github, the changes are near instantaneous|Followed the instructions to achieve maximum available opportunity|\n",
    "|Testing|Make sure both operations are fully functional|Run through all tests and prepare the operations for week 4 recording and are ready to go for next week!|\n",
    "|Extra|This week was also focused on mental health and taking breaks to better help ourselves|This week I tried multiple ways to relax and also do extra homework on the weekend to relieve myself|\n"
   ]
  },
  {
   "cell_type": "code",
   "execution_count": null,
   "metadata": {},
   "outputs": [],
   "source": [
    "print(\"I do this because i dont like .md formatting\")"
   ]
  }
 ],
 "metadata": {
  "kernelspec": {
   "display_name": "Python 3.9.12 ('base')",
   "language": "python",
   "name": "python3"
  },
  "language_info": {
   "name": "python",
   "version": "3.9.12"
  },
  "orig_nbformat": 4,
  "vscode": {
   "interpreter": {
    "hash": "30035633ff51bcc11553e39ef3b40810ee19007d8828d0abca75ce9054266ff5"
   }
  }
 },
 "nbformat": 4,
 "nbformat_minor": 2
}
