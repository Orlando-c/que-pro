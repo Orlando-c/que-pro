{
 "cells": [
  {
   "cell_type": "markdown",
   "metadata": {},
   "source": [
    "# Question to Database\n",
    ">This quiz will save your answers and put it in a database that will be able to be printed. Please put your information and you will get candy this is not clickbait."
   ]
  },
  {
   "cell_type": "code",
   "execution_count": 7,
   "metadata": {},
   "outputs": [
    {
     "name": "stdout",
     "output_type": "stream",
     "text": [
      "First question! What is your name (sample: Orlando Carcamo)\n",
      "huafh\n",
      "Next question! When were you born (sample: December 8th 2006)\n",
      "aihpfj\n",
      "Next question! Yes or No\n",
      "ufoah\n",
      "Thank you for answering all the questions. They will be saved in a database for me to look over!\n"
     ]
    }
   ],
   "source": [
    "\n",
    "from tokenize import Ignore\n",
    "\n",
    "\n",
    "InfoDB = []\n",
    "\n",
    "questions = [\n",
    "    \"What is your name (sample: Orlando Carcamo)\", \"When were you born (sample: December 8th 2006)\", \"Yes or No\"]\n",
    "answer = input\n",
    "\n",
    "level = 0\n",
    "    \n",
    "for question in questions:\n",
    "    if(level>0):\n",
    "        print(\"Next question! \" + question)\n",
    "    else:\n",
    "        print(\"First question! \" + question)\n",
    "    guess = (input())\n",
    "\n",
    "    print (guess)\n",
    "\n",
    "    level+=1\n",
    "\n",
    "    if(level>2):\n",
    "        print(\"Thank you for answering all the questions. They will be saved in a database for me to look over!\")\n",
    "    else:\n",
    "        Ignore\n",
    "\n",
    "\n"
   ]
  }
 ],
 "metadata": {
  "kernelspec": {
   "display_name": "Python 3.8.10 64-bit",
   "language": "python",
   "name": "python3"
  },
  "language_info": {
   "codemirror_mode": {
    "name": "ipython",
    "version": 3
   },
   "file_extension": ".py",
   "mimetype": "text/x-python",
   "name": "python",
   "nbconvert_exporter": "python",
   "pygments_lexer": "ipython3",
   "version": "3.8.10"
  },
  "orig_nbformat": 4,
  "vscode": {
   "interpreter": {
    "hash": "916dbcbb3f70747c44a77c7bcd40155683ae19c65e1c03b4aa3499c5328201f1"
   }
  }
 },
 "nbformat": 4,
 "nbformat_minor": 2
}
