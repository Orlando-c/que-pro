{
 "cells": [
  {
   "cell_type": "markdown",
   "metadata": {},
   "source": [
    "# Question to Database\n",
    ">This quiz will save your answers and put it in a database that will be able to be printed. Please put your information and you will get candy this is not clickbait."
   ]
  },
  {
   "cell_type": "code",
   "execution_count": 9,
   "metadata": {},
   "outputs": [
    {
     "name": "stdout",
     "output_type": "stream",
     "text": [
      "['What is your favorite type of dog? (Please use capitals and accurate spelling - ex. Huskey) ']\n",
      "German Shepard\n",
      "Thank you for answering the question! Your response will be saved in a database for me to look over!\n"
     ]
    }
   ],
   "source": [
    "\n",
    "from tokenize import Ignore\n",
    "\n",
    "questions = [\n",
    "    \"What is your favorite type of dog? (Please use capitals and accurate spelling - ex. Huskey) \"]\n",
    "answer = input\n",
    "\n",
    "print (questions)\n",
    "\n",
    "guess = (input())\n",
    "\n",
    "print (guess)\n",
    "\n",
    "print(\"Thank you for answering the question! Your response will be saved in a database for me to look over!\")\n"
   ]
  },
  {
   "cell_type": "code",
   "execution_count": null,
   "metadata": {},
   "outputs": [],
   "source": [
    "name = (guess)\n",
    "print(\"dog\", name, type(name))\n",
    "\n",
    "print()"
   ]
  },
  {
   "cell_type": "code",
   "execution_count": 13,
   "metadata": {},
   "outputs": [
    {
     "name": "stdout",
     "output_type": "stream",
     "text": [
      "[{'Favorite Dog': 'German Shepard'}]\n"
     ]
    }
   ],
   "source": [
    "InfoDb = []\n",
    "\n",
    "InfoDb.append({\n",
    "    \"Favorite Dog\": (guess)})\n",
    "\n",
    "print (InfoDb)"
   ]
  }
 ],
 "metadata": {
  "kernelspec": {
   "display_name": "Python 3.8.10 64-bit",
   "language": "python",
   "name": "python3"
  },
  "language_info": {
   "codemirror_mode": {
    "name": "ipython",
    "version": 3
   },
   "file_extension": ".py",
   "mimetype": "text/x-python",
   "name": "python",
   "nbconvert_exporter": "python",
   "pygments_lexer": "ipython3",
   "version": "3.8.10"
  },
  "orig_nbformat": 4,
  "vscode": {
   "interpreter": {
    "hash": "916dbcbb3f70747c44a77c7bcd40155683ae19c65e1c03b4aa3499c5328201f1"
   }
  }
 },
 "nbformat": 4,
 "nbformat_minor": 2
}
