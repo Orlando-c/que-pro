{
 "cells": [
  {
   "cell_type": "markdown",
   "metadata": {},
   "source": [
    "# Question to Database\n",
    ">This quiz will save your answers and put it in a database that will be able to be printed. Please put your information and you will get candy this is not clickbait."
   ]
  },
  {
   "cell_type": "code",
   "execution_count": 9,
   "metadata": {},
   "outputs": [
    {
     "name": "stdout",
     "output_type": "stream",
     "text": [
      "['What is your favorite type of dog? (Please use capitals and accurate spelling - ex. Huskey) ']\n",
      "German Shepard\n",
      "Thank you for answering the question! Your response will be saved in a database for me to look over!\n"
     ]
    }
   ],
   "source": [
    "\n",
    "from tokenize import Ignore\n",
    "\n",
    "questions = [\n",
    "    \"What is your favorite type of dog? (Please use capitals and accurate spelling - ex. Huskey) \"]\n",
    "answer = input\n",
    "\n",
    "print (questions)\n",
    "\n",
    "guess = (input())\n",
    "\n",
    "print (guess)\n",
    "\n",
    "print(\"Thank you for answering the question! Your response will be saved in a database for me to look over!\")\n"
   ]
  },
  {
   "cell_type": "code",
   "execution_count": 4,
   "metadata": {},
   "outputs": [
    {
     "ename": "NameError",
     "evalue": "name 'guess' is not defined",
     "output_type": "error",
     "traceback": [
      "\u001b[0;31m---------------------------------------------------------------------------\u001b[0m",
      "\u001b[0;31mNameError\u001b[0m                                 Traceback (most recent call last)",
      "\u001b[1;32m/root/vscode/que-pro/_notebooks/2022-08-30-Please-Give-Me-Your-Info.ipynb Cell 3\u001b[0m in \u001b[0;36m<cell line: 1>\u001b[0;34m()\u001b[0m\n\u001b[0;32m----> <a href='vscode-notebook-cell://wsl%2Bubuntu/root/vscode/que-pro/_notebooks/2022-08-30-Please-Give-Me-Your-Info.ipynb#W2sdnNjb2RlLXJlbW90ZQ%3D%3D?line=0'>1</a>\u001b[0m name \u001b[39m=\u001b[39m (guess)\n\u001b[1;32m      <a href='vscode-notebook-cell://wsl%2Bubuntu/root/vscode/que-pro/_notebooks/2022-08-30-Please-Give-Me-Your-Info.ipynb#W2sdnNjb2RlLXJlbW90ZQ%3D%3D?line=1'>2</a>\u001b[0m \u001b[39mprint\u001b[39m(\u001b[39m\"\u001b[39m\u001b[39mdog\u001b[39m\u001b[39m\"\u001b[39m, name, \u001b[39mtype\u001b[39m(name))\n\u001b[1;32m      <a href='vscode-notebook-cell://wsl%2Bubuntu/root/vscode/que-pro/_notebooks/2022-08-30-Please-Give-Me-Your-Info.ipynb#W2sdnNjb2RlLXJlbW90ZQ%3D%3D?line=3'>4</a>\u001b[0m \u001b[39mprint\u001b[39m()\n",
      "\u001b[0;31mNameError\u001b[0m: name 'guess' is not defined"
     ]
    }
   ],
   "source": [
    "name = (guess)\n",
    "print(\"dog\", name, type(name))\n",
    "\n",
    "print()"
   ]
  },
  {
   "cell_type": "code",
   "execution_count": 13,
   "metadata": {},
   "outputs": [
    {
     "name": "stdout",
     "output_type": "stream",
     "text": [
      "[{'Favorite Dog': 'German Shepard'}]\n"
     ]
    }
   ],
   "source": [
    "InfoDb = []\n",
    "\n",
    "InfoDb.append({\n",
    "    \"Favorite Dog\": (guess)})\n",
    "\n",
    "print (InfoDb)"
   ]
  },
  {
   "cell_type": "code",
   "execution_count": 5,
   "metadata": {},
   "outputs": [
    {
     "name": "stdout",
     "output_type": "stream",
     "text": [
      "For loop output\n",
      "\n"
     ]
    },
    {
     "ename": "NameError",
     "evalue": "name 'InfoDb' is not defined",
     "output_type": "error",
     "traceback": [
      "\u001b[0;31m---------------------------------------------------------------------------\u001b[0m",
      "\u001b[0;31mNameError\u001b[0m                                 Traceback (most recent call last)",
      "\u001b[1;32m/root/vscode/que-pro/_notebooks/2022-08-30-Please-Give-Me-Your-Info.ipynb Cell 5\u001b[0m in \u001b[0;36m<cell line: 9>\u001b[0;34m()\u001b[0m\n\u001b[1;32m      <a href='vscode-notebook-cell://wsl%2Bubuntu/root/vscode/que-pro/_notebooks/2022-08-30-Please-Give-Me-Your-Info.ipynb#W4sdnNjb2RlLXJlbW90ZQ%3D%3D?line=5'>6</a>\u001b[0m     \u001b[39mfor\u001b[39;00m record \u001b[39min\u001b[39;00m InfoDb:\n\u001b[1;32m      <a href='vscode-notebook-cell://wsl%2Bubuntu/root/vscode/que-pro/_notebooks/2022-08-30-Please-Give-Me-Your-Info.ipynb#W4sdnNjb2RlLXJlbW90ZQ%3D%3D?line=6'>7</a>\u001b[0m         print_data(record)\n\u001b[0;32m----> <a href='vscode-notebook-cell://wsl%2Bubuntu/root/vscode/que-pro/_notebooks/2022-08-30-Please-Give-Me-Your-Info.ipynb#W4sdnNjb2RlLXJlbW90ZQ%3D%3D?line=8'>9</a>\u001b[0m for_loop()\n",
      "\u001b[1;32m/root/vscode/que-pro/_notebooks/2022-08-30-Please-Give-Me-Your-Info.ipynb Cell 5\u001b[0m in \u001b[0;36mfor_loop\u001b[0;34m()\u001b[0m\n\u001b[1;32m      <a href='vscode-notebook-cell://wsl%2Bubuntu/root/vscode/que-pro/_notebooks/2022-08-30-Please-Give-Me-Your-Info.ipynb#W4sdnNjb2RlLXJlbW90ZQ%3D%3D?line=3'>4</a>\u001b[0m \u001b[39mdef\u001b[39;00m \u001b[39mfor_loop\u001b[39m(): \u001b[39m#only if there are more than one answer\u001b[39;00m\n\u001b[1;32m      <a href='vscode-notebook-cell://wsl%2Bubuntu/root/vscode/que-pro/_notebooks/2022-08-30-Please-Give-Me-Your-Info.ipynb#W4sdnNjb2RlLXJlbW90ZQ%3D%3D?line=4'>5</a>\u001b[0m     \u001b[39mprint\u001b[39m(\u001b[39m\"\u001b[39m\u001b[39mFor loop output\u001b[39m\u001b[39m\\n\u001b[39;00m\u001b[39m\"\u001b[39m)\n\u001b[0;32m----> <a href='vscode-notebook-cell://wsl%2Bubuntu/root/vscode/que-pro/_notebooks/2022-08-30-Please-Give-Me-Your-Info.ipynb#W4sdnNjb2RlLXJlbW90ZQ%3D%3D?line=5'>6</a>\u001b[0m     \u001b[39mfor\u001b[39;00m record \u001b[39min\u001b[39;00m InfoDb:\n\u001b[1;32m      <a href='vscode-notebook-cell://wsl%2Bubuntu/root/vscode/que-pro/_notebooks/2022-08-30-Please-Give-Me-Your-Info.ipynb#W4sdnNjb2RlLXJlbW90ZQ%3D%3D?line=6'>7</a>\u001b[0m         print_data(record)\n",
      "\u001b[0;31mNameError\u001b[0m: name 'InfoDb' is not defined"
     ]
    }
   ],
   "source": [
    "def print_data(d_rec):\n",
    "    print(d_rec[\"Favorite Dog\"])\n",
    "\n",
    "def for_loop(): #only if there are more than one answer\n",
    "    print(\"For loop output\\n\")\n",
    "    for record in InfoDb:\n",
    "        print_data(record)\n",
    "\n",
    "for_loop()"
   ]
  }
 ],
 "metadata": {
  "kernelspec": {
   "display_name": "Python 3.8.10 64-bit",
   "language": "python",
   "name": "python3"
  },
  "language_info": {
   "codemirror_mode": {
    "name": "ipython",
    "version": 3
   },
   "file_extension": ".py",
   "mimetype": "text/x-python",
   "name": "python",
   "nbconvert_exporter": "python",
   "pygments_lexer": "ipython3",
   "version": "3.8.10"
  },
  "orig_nbformat": 4,
  "vscode": {
   "interpreter": {
    "hash": "916dbcbb3f70747c44a77c7bcd40155683ae19c65e1c03b4aa3499c5328201f1"
   }
  }
 },
 "nbformat": 4,
 "nbformat_minor": 2
}
