{
 "cells": [
  {
   "attachments": {},
   "cell_type": "markdown",
   "metadata": {},
   "source": [
    "# Lessons 12, 13, 14, 15, and 16\n",
    "> Assignments and Vocab for lessons 12, 13, 14, 15, and 16 (For graders, 3.12/3.13 are on the top, 3.14/3.15 is near the middle, 3.16 is towards the end)"
   ]
  },
  {
   "attachments": {},
   "cell_type": "markdown",
   "metadata": {},
   "source": [
    "## Vocab (Doing l8r cuz I was absent)"
   ]
  },
  {
   "attachments": {},
   "cell_type": "markdown",
   "metadata": {},
   "source": [
    "### Unit 3 Sections 12-13\n",
    "\n",
    "## <mark>Homework/Hacks</mark>: For the hw, you have two options. The first hack is for a 0.7 + extra work for the full 1. Simply create your own procedure with your own creativity. Since there is a lot of leeway for this one, you must do a LOT additional work to get a 1. For the other option, below is the start to a character to binary convertor. This is just a template, but the goal is to translate \"APCSP\" into binary. The only contraint is that you must use a procedure. If this is completed along with extra work, you can get a 1. "
   ]
  },
  {
   "cell_type": "code",
   "execution_count": 2,
   "metadata": {},
   "outputs": [
    {
     "name": "stdout",
     "output_type": "stream",
     "text": [
      "0b1000110\n",
      "0b1000010\n",
      "0b1000011\n"
     ]
    }
   ],
   "source": [
    "def letter_to_binary(letter: str) -> str:\n",
    "    # Convert the letter to ASCII code\n",
    "    ascii_code = ord(letter)\n",
    "    \n",
    "    # Convert the ASCII code to binary\n",
    "    binary = bin(ascii_code)\n",
    "    \n",
    "    # Return the binary representation\n",
    "    return binary\n",
    "\n",
    "# Test the function\n",
    "print(letter_to_binary(\"F\"))  # Should print '0b1000001'\n",
    "print(letter_to_binary(\"B\"))  # Should print '0b1000010'\n",
    "print(letter_to_binary(\"C\"))  # Should print '0b1000011'"
   ]
  },
  {
   "attachments": {},
   "cell_type": "markdown",
   "metadata": {},
   "source": [
    "#### Unit 3 Sections 14-15 Homework\n",
    "\n",
    "## Create a program that asks the user for a day and then gives them a distance in days between that day and another random day in the year. We have provided you with a possible starter, but you are welcome to change it up if you would like."
   ]
  },
  {
   "cell_type": "code",
   "execution_count": 2,
   "metadata": {},
   "outputs": [
    {
     "name": "stdout",
     "output_type": "stream",
     "text": [
      "The distance in days between 12/08/2006 and 10/17/1900 is 38768 days.\n"
     ]
    }
   ],
   "source": [
    "import datetime\n",
    "import random\n",
    "\n",
    "#user input\n",
    "day = input(\"Enter a day (MM/DD/YYYY): \")\n",
    "\n",
    "#turn user input to datetime form\n",
    "user_day = datetime.datetime.strptime(day, '%m/%d/%Y')\n",
    "\n",
    "#gen rand year\n",
    "random_year = random.randint(1, 366)\n",
    "random_day = datetime.datetime.strptime(str(random_year), '%j')\n",
    "\n",
    "#calc dis\n",
    "distance = abs(user_day - random_day).days\n",
    "\n",
    "print(f\"The distance in days between {user_day.strftime('%m/%d/%Y')} and {random_day.strftime('%m/%d/%Y')} is {distance} days.\")"
   ]
  },
  {
   "attachments": {},
   "cell_type": "markdown",
   "metadata": {},
   "source": [
    "### Unit 3 Section 16\n",
    "\n",
    "## Hacks 2"
   ]
  },
  {
   "cell_type": "code",
   "execution_count": null,
   "metadata": {},
   "outputs": [],
   "source": [
    "import random\n",
    "x = random.randint (1,100)\n",
    "\n",
    "input (\"Try to guess the number\")\n",
    "y = input\n",
    "if y==x:\n",
    "    print (\"The number was\" + x)\n",
    "elif y<x:\n",
    "    print (\"You didnt guess the number, the number was \" + x + \"... You guessed \" + y)\n",
    "elif y>x:\n",
    "    print (\"You didnt guess the number, the number was \" + x + \"... You guessed \" + y)\n",
    "\n",
    "# insert your work with randomization/ functions and the mycloset code here # Hint: Use the functions we talked about in the beginning!"
   ]
  },
  {
   "cell_type": "code",
   "execution_count": 3,
   "metadata": {},
   "outputs": [
    {
     "name": "stdout",
     "output_type": "stream",
     "text": [
      "Heads\n",
      "Heads\n",
      "Tails\n",
      "Heads\n",
      "Heads\n"
     ]
    }
   ],
   "source": [
    "import random\n",
    "\n",
    "def coinflip():         #def function \n",
    "    randomflip = random.randint(0, 1) #picks either 0 or 1 randomly (50/50 chance of either) \n",
    "    if randomflip == 0: #assigning 0 to be heads--> if 0 is chosen then it will print, \"Heads\"\n",
    "        print(\"Heads\")\n",
    "    else:\n",
    "        if randomflip == 1: #assigning 1 to be tails--> if 1 is chosen then it will print, \"Tails\"\n",
    "            print(\"Tails\")\n",
    "\n",
    "#Tossing the coin 5 times:\n",
    "t1 = coinflip()\n",
    "t2 = coinflip()\n",
    "t3 = coinflip()\n",
    "t4 = coinflip()\n",
    "t5 = coinflip()"
   ]
  },
  {
   "attachments": {},
   "cell_type": "markdown",
   "metadata": {},
   "source": [
    "## Hacks 3"
   ]
  },
  {
   "cell_type": "code",
   "execution_count": null,
   "metadata": {},
   "outputs": [],
   "source": [
    "# insert your zombie simulation here; you don't have to use this template but it will help you get started\n",
    "\n",
    "import random\n",
    "\n",
    "def randomnum(): # function for generating random int\n",
    "    random.randint(1,8)\n",
    "    \n",
    "\n",
    "def converttobin(n): # function for converting decimal to binary\n",
    "    binary = bin(n)\n",
    "\n",
    "    \n",
    "\n",
    "def survivors(binary): # function to assign position\n",
    "    survivorstatus = [\"Archie\", \"Cookie\", \"Daisy\", \"Ollie\" , \"Orlando\", \"Colin\", \"Max\", \"Andrew\"]\n",
    "    # replace the names above with your choice of people in the house"
   ]
  },
  {
   "attachments": {},
   "cell_type": "markdown",
   "metadata": {},
   "source": [
    "## Hacks 4"
   ]
  },
  {
   "cell_type": "code",
   "execution_count": 4,
   "metadata": {},
   "outputs": [
    {
     "name": "stdout",
     "output_type": "stream",
     "text": [
      "Trial 1: 2\n",
      "Trial 2: 4\n",
      "Trial 3: 1\n",
      "Trial 4: 2\n",
      "Trial 5: 5\n",
      "Trial 6: 6\n",
      "Trial 7: 1\n",
      "Trial 8: 2\n",
      "Trial 9: 3\n",
      "Trial 10: 1\n"
     ]
    }
   ],
   "source": [
    "import random\n",
    "\n",
    "def roll_dice():\n",
    "    # Generate a random number between 1 and 6 (inclusive)\n",
    "    roll = random.randint(1, 6)\n",
    "    return roll\n",
    "\n",
    "# Roll the dice multiple times\n",
    "trials = 10\n",
    "for i in range(trials):\n",
    "    result = roll_dice()\n",
    "    print(f\"Trial {i+1}: {result}\")"
   ]
  },
  {
   "attachments": {},
   "cell_type": "markdown",
   "metadata": {},
   "source": [
    "## Hacks 5"
   ]
  },
  {
   "cell_type": "code",
   "execution_count": null,
   "metadata": {},
   "outputs": [],
   "source": [
    "import random\n",
    "\n",
    "# Define a list of questions and a list of answer options for each question\n",
    "questions = [\n",
    "    \"A researcher gathers data about the effect of Advanced Placement®︎ classes on students' success in college and career, and develops a simulation to show how a sequence of AP classes affect a hypothetical student's pathway. Several school administrators are concerned that the simulation contains bias favoring high-income students, however.\",\n",
    "    \"Jack is trying to plan his financial future using an online tool. The tool starts off by asking him to input details about his current finances and career. It then lets him choose different future scenarios, such as having children. For each scenario chosen, the tool does some calculations and outputs his projected savings at the ages of 35, 45, and 55.Would that be considered a simulation and why?\",\n",
    "    \"Sylvia is an industrial engineer working for a sporting goods company. She is developing a baseball bat that can hit balls with higher accuracy and asks their software engineering team to develop a simulation to verify the design.Which of the following details is most important to include in this simulation?\",\n",
    "    \"Ashlynn is an industrial engineer who is trying to design a safer parachute. She creates a computer simulation of the parachute opening at different heights and in different environmental conditions. What are advantages of running the simulation versus an actual experiment?\"\n",
    "]\n",
    "\n",
    "answers = [\n",
    "    [\"The simulation is an abstraction and therefore cannot contain any bias\", \"The simulation may accidentally contain bias due to the exclusion of details.\", \"If the simulation is found to contain bias, then it is not possible to remove the bias from the simulation.\", \"The only way for the simulation to be biased is if the researcher intentionally used data that favored their desired output.\"],\n",
    "    [\"No, it's not a simulation because it does not include a visualization of the results.\", \"No, it's not a simulation because it does not include all the details of his life history and the future financial environment.\", \"Yes, it's a simulation because it runs on a computer and includes both user input and computed output.\", \"Yes, it's a simulation because it is an abstraction of a real world scenario that enables the drawing of inferences.\"],\n",
    "    [\"Realistic sound effects based on the material of the baseball bat and the velocity of the hit\", \"A depiction of an audience in the stands with lifelike behavior in response to hit accuracy\", \"Accurate accounting for the effects of wind conditions on the movement of the ball\", \"A baseball field that is textured to differentiate between the grass and the dirt\"],\n",
    "    [\"The simulation will not contain any bias that favors one body type over another, while an experiment will be biased.\", \"The simulation can be run more safely than an actual experiment\", \"The simulation will accurately predict the parachute's safety level, while an experiment may be inaccurate due to faulty experimental design.\", \"The simulation can test the parachute design in a wide range of environmental conditions that may be difficult to reliably reproduce in an experiment.\"]\n",
    "]\n",
    "\n",
    "# Correct answers\n",
    "correct_answers = [2, 3, 3, 3]\n",
    "\n",
    "# User Score\n",
    "score = 0\n",
    "\n",
    "# Shuffle q&a\n",
    "random.shuffle(questions)\n",
    "random.shuffle(answers)\n",
    "\n",
    "# Ask question\n",
    "for i, question in enumerate(questions):\n",
    "    print(f\"Question {i+1}:\")\n",
    "    print(question)\n",
    "    print()\n",
    "    for j, answer in"
   ]
  },
  {
   "attachments": {},
   "cell_type": "markdown",
   "metadata": {},
   "source": [
    "## Hacks 6 / Challange"
   ]
  },
  {
   "cell_type": "code",
   "execution_count": 5,
   "metadata": {},
   "outputs": [
    {
     "name": "stdout",
     "output_type": "stream",
     "text": [
      "The name picked from the hat is Player E\n"
     ]
    }
   ],
   "source": [
    "import random\n",
    "\n",
    "names = [\"Player A\", \"Player B\", \"Player C\", \"Player D\", \"Player E\", \"Player E\"]\n",
    "\n",
    "picked_name = random.choice(names)\n",
    "\n",
    "print(f\"The name picked from the hat is {picked_name}\")"
   ]
  },
  {
   "attachments": {},
   "cell_type": "markdown",
   "metadata": {},
   "source": [
    "### Unit 3 Section 17-18\n",
    "\n",
    "## 3.17 Algorithmic Efficiency"
   ]
  },
  {
   "attachments": {},
   "cell_type": "markdown",
   "metadata": {},
   "source": [
    "## Vocab\n",
    "- Problem: a general description of a task that can or cannot be solved algorithmically\n",
    "- Decision Problem: A problem with a yes or no answer\n",
    "- Organization Problem: a problem with a goal of finding the best answer\n",
    "- Instance: a problem with a specific input\n",
    "- Efficiency: amount of computing needed to solve a problem\n",
    "- Polynomial Efficiency (Good): more work takes a proportional amount of time (1 job is +2 time)\n",
    "- Exponential Efficiency (Bad): more work takes an exponential amount more time (1 job is 2x time)\n",
    "- Heuristic Approach: When optimal solutions are inefficient, look for a possibly optimal solution that is more efficient\n",
    "- Decidable Problem: A decision problem that has a clear solution that will always make a correct output\n",
    "- Undecidable Problem: A decision problem with no solution that is not guaranteed to produce the correct output"
   ]
  },
  {
   "attachments": {},
   "cell_type": "markdown",
   "metadata": {},
   "source": [
    "## Challenge\n",
    "Try and fix this ineficcient code!\n",
    "Only change the code between the two commented lines.\n",
    "Fully programmed solution will improve your grade, at a minimum show that you tried."
   ]
  },
  {
   "cell_type": "code",
   "execution_count": 3,
   "metadata": {},
   "outputs": [
    {
     "name": "stdout",
     "output_type": "stream",
     "text": [
      "1.2009532451629639 seconds\n"
     ]
    }
   ],
   "source": [
    "import time\n",
    "numlist = [1,3,5,7,9,11,13,15,17,19]\n",
    "valuelist = [0,3,6,9,12,15,18,21]\n",
    "def isvalue(value,array):\n",
    "    #--------------------\n",
    "    exists = False\n",
    "    min = 0\n",
    "    tmax = 0\n",
    "    max = int(len(numlist) - 1)\n",
    "    while (max - min) > 1:\n",
    "        if numlist[max] > value:\n",
    "            tmax = max\n",
    "            max = int((min + max) / 2)\n",
    "            if max % 1 != 0:\n",
    "                max += .5\n",
    "        else:\n",
    "            min = max\n",
    "            max = tmax\n",
    "\n",
    "    for R in range (int(min), int(tmax)):\n",
    "        if numlist[R] == value:\n",
    "            exists = \"True\"\n",
    "            return(exists)\n",
    "    #--------------------\n",
    "starttime = time.time()\n",
    "for i in range(100000):\n",
    "    for i in range(len(valuelist)):\n",
    "        x = isvalue(valuelist[i],numlist)\n",
    "endtime = time.time()\n",
    "print(endtime-starttime,'seconds')"
   ]
  },
  {
   "attachments": {},
   "cell_type": "markdown",
   "metadata": {},
   "source": [
    "## Homework\n",
    "Make an algorithm that finds the fastest route that hits every location once starting and ending at Del Norte. Make sure to show your thinking. If you are strugling, try using a huristic approach. Remember, what matters more than having perfectly functioning code is that you tried your hardest."
   ]
  },
  {
   "cell_type": "code",
   "execution_count": null,
   "metadata": {},
   "outputs": [],
   "source": [
    "dataset = {\n",
    "    'DelNorte':{\n",
    "        'Westview':15,\n",
    "        'MtCarmel':20,\n",
    "        'Poway':35,\n",
    "        'RanchoBernrdo':50\n",
    "    },\n",
    "    'Westview':{\n",
    "        'Del Norte':15,\n",
    "        'MtCarmel':35,\n",
    "        'Poway':25,\n",
    "        'RanchoBernrdo': 45\n",
    "    },\n",
    "    'MtCarmel':{\n",
    "        'Westview':35,\n",
    "        'Del Norte':20,\n",
    "        'Poway':40,\n",
    "        'RanchoBernrdo':30\n",
    "    },\n",
    "    'Poway':{\n",
    "        'Westview':25,\n",
    "        'MtCarmel':40,\n",
    "        'Del Norte':35,\n",
    "        'RanchoBernrdo':15\n",
    "    },\n",
    "    'RanchoBernardo':{\n",
    "        'Westview':45,\n",
    "        'MtCarmel':30,\n",
    "        'Poway':15,\n",
    "        'Del Norte':50\n",
    "    }\n",
    "}"
   ]
  },
  {
   "cell_type": "code",
   "execution_count": 4,
   "metadata": {},
   "outputs": [
    {
     "name": "stdout",
     "output_type": "stream",
     "text": [
      "(0, 1, 2, 3, 4)\n"
     ]
    }
   ],
   "source": [
    "from itertools import permutations\n",
    "\n",
    "def get_travel_time(route, times):\n",
    "  total_time = 0\n",
    "  for i in range(len(route) - 1):\n",
    "    total_time += times[route[i]][route[i+1]]\n",
    "  return total_time\n",
    "\n",
    "def find_fastest_route(times):\n",
    "  locations = list(range(5))\n",
    "  routes = permutations(locations)\n",
    "  \n",
    "  # Find the fastest route\n",
    "  fastest_time = float('inf')\n",
    "  fastest_route = None\n",
    "  for route in routes:\n",
    "    time = get_travel_time(route, times)\n",
    "    if time < fastest_time:\n",
    "      fastest_time = time\n",
    "      fastest_route = route\n",
    "      \n",
    "  return fastest_route\n",
    "\n",
    "times = [[0, 3, 6, 7, 8],\n",
    "         [3, 0, 4, 5, 6],\n",
    "         [6, 4, 0, 1, 2],\n",
    "         [7, 5, 1, 0, 3],\n",
    "         [8, 6, 2, 3, 0]]\n",
    "fastest_route = find_fastest_route(times)\n",
    "print(fastest_route)"
   ]
  }
 ],
 "metadata": {
  "kernelspec": {
   "display_name": "Python 3.10.6 64-bit",
   "language": "python",
   "name": "python3"
  },
  "language_info": {
   "codemirror_mode": {
    "name": "ipython",
    "version": 3
   },
   "file_extension": ".py",
   "mimetype": "text/x-python",
   "name": "python",
   "nbconvert_exporter": "python",
   "pygments_lexer": "ipython3",
   "version": "3.10.6"
  },
  "orig_nbformat": 4,
  "vscode": {
   "interpreter": {
    "hash": "916dbcbb3f70747c44a77c7bcd40155683ae19c65e1c03b4aa3499c5328201f1"
   }
  }
 },
 "nbformat": 4,
 "nbformat_minor": 2
}
