{
 "cells": [
  {
   "attachments": {},
   "cell_type": "markdown",
   "metadata": {},
   "source": [
    "# APCSP Performance Task Grading\n",
    "> Students looks at scoring rubric to determine scoring for the performance task"
   ]
  },
  {
   "attachments": {},
   "cell_type": "markdown",
   "metadata": {},
   "source": [
    "### Submission 1\n",
    "|Reporting Category|Student Score|College Board Score|Comments|\n",
    "|-|-|-|-|\n",
    "|Program Purpose and Function| + | x | = |\n",
    "|Data Abstraction| + | x | = |\n",
    "|Managing Complexity| + | x | = |\n",
    "|Procedural Abstraction| + | x | = |\n",
    "|Algorithm Implementation| + | x | = |\n",
    "|Testing| + | x | = |\n",
    "\n",
    "### Submission 2\n",
    "|Reporting Category|Student Score 6/6|Comments|\n",
    "|-|-|-|\n",
    "|Program Purpose and Function| 1 | The program is a game that uses data and iterations to determine future moves of an object|\n",
    "|Data Abstraction| 1 | Data is stored for the second process of the game, the game uses data provided to start game, process next move in the “game of life” and start another game|\n",
    "|Managing Complexity| 1 | Code store’s information efficiently and effectively, keeping the first iteration of data then reversing it before restarting the game|\n",
    "|Procedural Abstraction| 1 | Shows the effect and procedure of program and describes the process and purpose of the program with parameters |\n",
    "|Algorithm Implementation| 1 | User presents examples of program running through iterations and changes in their game. Code provided shows the implementation of algorithm iteration |\n",
    "|Testing| 1 | Program is proficiently projected through the video and provides a written explanation of the program and how user expects it to run versus with the result, multiple iterations of testing are ran |\n",
    "\n",
    "# Week 2 of submission grading\n",
    "\n",
    "### Submission 3\n",
    "|Reporting Category|Student Score|Comments|\n",
    "|-|-|-|\n",
    "|Program Purpose and Function| 1 | Displays all information to understand purpose and dunction of the program and presents multiple examples of working code |\n",
    "|Data Abstraction| 0 | The game saves data for the second phase of the game, using this data to initiate the process, determine the next move, and restart the game however is flawed and confusing to the regular eye |\n",
    "|Managing Complexity| 0 | Code doesnt store information efficiently and effectively, keeping the first iteration of data then reversing it before restarting the program however is messy and sometimes flawed |\n",
    "|Procedural Abstraction| 0 | Does not show the effect and procedure of program and fails to describe the process and purpose of the program with parameters |\n",
    "|Algorithm Implementation| 1 | The user demonstrates how the program was used in different stages of their game development, and the code is provided to illustrate the use of the algorithm. |\n",
    "|Testing| 1 | The program is explained through a video and a written explanation of how it should function. The user's expectations are compared to the results after multiple test runs. |\n",
    "\n",
    "### Submission 4\n",
    "|Reporting Category|Student Score|Comments|\n",
    "|-|-|-|\n",
    "|Program Purpose and Function| 1 | The program's goals and functionality are clearly explained and examples of working code are provided to better understand how it operates. |\n",
    "|Data Abstraction| 1 | The game saves data for the second phase of the game, using this data to initiate the process, determine the next move, and restart the game |\n",
    "|Managing Complexity| 1 | The code is designed to store data in an efficient and effective manner, keeping the original version of the data before reversing it and restarting the program. |\n",
    "|Procedural Abstraction| 1 | The program's function and methodology is demonstrated, including an explanation of the program's goals and the parameters used in its operation. |\n",
    "|Algorithm Implementation| 1 | The user demonstrates the program in action, showing how it's been modified and improved over time, using examples from their game. The code for the iterative algorithm is also provided. |\n",
    "|Testing| 1 | The program is shown in a video and described in writing. We test it multiple times and compare the results to what the user expected. |\n",
    "\n",
    "### Submission 5\n",
    "|Reporting Category|Student Score|Comments|\n",
    "|-|-|-|\n",
    "|Program Purpose and Function| 1 | The program's intended outcomes and capabilities are explained in a clear and concise manner, and concrete examples of working code are provided to aid in the comprehension of its functionality. |\n",
    "|Data Abstraction| 0 | The code fails to store data efficiently for the second phase of the program, making it difficult to utilize this information to initiate the process, make decisions and restart the program smoothly. |\n",
    "|Managing Complexity| 0 | The code is poorly designed and fails to store data in an efficient and effective manner, it doesn't retain the original version of the data before reversing it and restoring the program is a hassle for further use. |\n",
    "|Procedural Abstraction| 1 | A demonstration of the program is provided, along with a clear explanation of its purpose, methodology and the parameters used in its operation. |\n",
    "|Algorithm Implementation| 0 | The user's demonstration of the program is inadequate and fails to clearly show how it has been modified and improved over time, the examples provided from their game are not clear. Furthermore, the provided code for the iterative algorithm is confusing and not helpful. |\n",
    "|Testing| 0 | The program is only shown in a video and described in writing, lacking hands-on demonstration. Despite testing it multiple times, the results do not meet the user's expectations. |\n",
    "\n",
    "### Submission 6\n",
    "|Reporting Category|Student Score|Comments|\n",
    "|-|-|-|\n",
    "|Program Purpose and Function| 1 | The program's objectives and capabilities are clearly outlined and accompanied by working code examples, making it easy to grasp the program's functionality and how it works. |\n",
    "|Data Abstraction| 1 | The game efficiently stores data for the second phase of the program, utilizing this information to initiate the process, make decisions and seamlessly restart the program. |\n",
    "|Managing Complexity| 1 | The code is designed to store data in an efficient and effective manner, keeping the original version of the data before reversing it and restoring the program for further use. |\n",
    "|Procedural Abstraction| 1 | The program's function and methodology is clearly and effectively demonstrated, with a thorough explanation of its goals and the parameters used to achieve them, making it easy to understand the program's operation. |\n",
    "|Algorithm Implementation| 1 | The user illustrates the program's evolution by providing examples of how it was used in their game development, showing how it was modified and improved over time. The code for the iterative algorithm is also made available for reference. |\n",
    "|Testing| 0 | The program is inadequately demonstrated through a video and poorly explained in writing. Despite multiple testing, the results fail to meet the user's expectations. |"
   ]
  }
 ],
 "metadata": {
  "kernelspec": {
   "display_name": "Python 3",
   "language": "python",
   "name": "python3"
  },
  "language_info": {
   "name": "python",
   "version": "3.10.6 (main, Nov 14 2022, 16:10:14) [GCC 11.3.0]"
  },
  "orig_nbformat": 4,
  "vscode": {
   "interpreter": {
    "hash": "916dbcbb3f70747c44a77c7bcd40155683ae19c65e1c03b4aa3499c5328201f1"
   }
  }
 },
 "nbformat": 4,
 "nbformat_minor": 2
}
