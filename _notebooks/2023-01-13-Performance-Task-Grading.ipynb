{
 "cells": [
  {
   "attachments": {},
   "cell_type": "markdown",
   "metadata": {},
   "source": [
    "# APCSP Performance Task Grading\n",
    "> Students looks at scoring rubric to determine scoring for the performance task"
   ]
  },
  {
   "attachments": {},
   "cell_type": "markdown",
   "metadata": {},
   "source": [
    "# Submission 1\n",
    "|Reporting Category|Student Score|College Board Score|Comments|\n",
    "|-|-|-|-|\n",
    "|Program Purpose and Function| + | x | = |\n",
    "|Data Abstraction| + | x | = |\n",
    "|Managing Complexity| + | x | = |\n",
    "|Procedural Abstraction| + | x | = |\n",
    "|Algorithm Implementation| + | x | = |\n",
    "|Testing| + | x | = |\n",
    "\n",
    "# Submission 2\n",
    "|Reporting Category|Student Score 6/6|Comments|\n",
    "|-|-|-|\n",
    "|Program Purpose and Function| 1 | The program is a game that uses data and iterations to determine future moves of an object|\n",
    "|Data Abstraction| 1 | Data is stored for the second process of the game, the game uses data provided to start game, process next move in the “game of life” and start another game|\n",
    "|Managing Complexity| 1 | Code store’s information efficiently and effectively, keeping the first iteration of data then reversing it before restarting the game|\n",
    "|Procedural Abstraction| 1 | Shows the effect and procedure of program and describes the process and purpose of the program with parameters |\n",
    "|Algorithm Implementation| 1 | User presents examples of program running through iterations and changes in their game. Code provided shows the implementation of algorithm iteration |\n",
    "|Testing| 1 | Program is proficiently projected through the video and provides a written explanation of the program and how user expects it to run versus with the result, multiple iterations of testing are ran |\n",
    "\n",
    "# Submission 3\n",
    "|Reporting Category|Student Score|Comments|\n",
    "|-|-|-|-|\n",
    "|Program Purpose and Function| + | x |\n",
    "|Data Abstraction| + | x |\n",
    "|Managing Complexity| + | x |\n",
    "|Procedural Abstraction| + | x |\n",
    "|Algorithm Implementation| + | x |\n",
    "|Testing| + | x |\n",
    "\n",
    "# Submission 4\n",
    "|Reporting Category|Student Score|Comments|\n",
    "|-|-|-|-|\n",
    "|Program Purpose and Function| + | x |\n",
    "|Data Abstraction| + | x |\n",
    "|Managing Complexity| + | x |\n",
    "|Procedural Abstraction| + | x |\n",
    "|Algorithm Implementation| + | x |\n",
    "|Testing| + | x |\n",
    "\n",
    "# Submission 5\n",
    "|Reporting Category|Student Score|Comments|\n",
    "|-|-|-|-|\n",
    "|Program Purpose and Function| + | x |\n",
    "|Data Abstraction| + | x |\n",
    "|Managing Complexity| + | x |\n",
    "|Procedural Abstraction| + | x |\n",
    "|Algorithm Implementation| + | x |\n",
    "|Testing| + | x |\n",
    "\n",
    "# Submission 6\n",
    "|Reporting Category|Student Score|Comments|\n",
    "|-|-|-|-|\n",
    "|Program Purpose and Function| + | x |\n",
    "|Data Abstraction| + | x |\n",
    "|Managing Complexity| + | x |\n",
    "|Procedural Abstraction| + | x |\n",
    "|Algorithm Implementation| + | x |\n",
    "|Testing| + | x |"
   ]
  }
 ],
 "metadata": {
  "kernelspec": {
   "display_name": "Python 3",
   "language": "python",
   "name": "python3"
  },
  "language_info": {
   "name": "python",
   "version": "3.10.6 (main, Nov 14 2022, 16:10:14) [GCC 11.3.0]"
  },
  "orig_nbformat": 4,
  "vscode": {
   "interpreter": {
    "hash": "916dbcbb3f70747c44a77c7bcd40155683ae19c65e1c03b4aa3499c5328201f1"
   }
  }
 },
 "nbformat": 4,
 "nbformat_minor": 2
}
