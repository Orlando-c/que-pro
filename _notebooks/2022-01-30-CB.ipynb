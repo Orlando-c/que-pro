{
 "cells": [
  {
   "attachments": {},
   "cell_type": "markdown",
   "metadata": {},
   "source": [
    "# CB outline\n",
    "> Create an outline according to CollegeBoard requirements"
   ]
  },
  {
   "attachments": {},
   "cell_type": "markdown",
   "metadata": {},
   "source": [
    "# CB \"Pre-View\"\n",
    "- Follow CB regulations and guide to achieve a full score\n",
    "\n",
    "# Project Work\n",
    "- For my project, I will be making an adventure game that uses player input to interpert their result. Alongside this I am working with backend to set up the databases for the games and login page. Another responsibility for my part is setting up the flask page onto a server so anyone can access it.\n",
    "\n",
    "# Code Plan\n",
    "- My code plan is to take their input and make a program that will produce a result that is related to that input (ie the game says \"you are lost in the forest\" and you respond with \"move forward,\" the game code will try to find the closest result to what you responded with like \"you have found your way out of the forest\")\n",
    "\n",
    "# Video Plan\n",
    "- In the video I will demonstrate the game I have made which would include text entry as its main focus of input. I will go through multiple iterations of the game to demonstrate the varying options created by an API, AI, or program that I will use to generate multiple responses."
   ]
  }
 ],
 "metadata": {
  "kernelspec": {
   "display_name": "base",
   "language": "python",
   "name": "python3"
  },
  "language_info": {
   "name": "python",
   "version": "3.9.12 (main, Apr  5 2022, 06:56:58) \n[GCC 7.5.0]"
  },
  "orig_nbformat": 4,
  "vscode": {
   "interpreter": {
    "hash": "2ba3553ace173b32fad69c2321dc3070b85116153abcc5f8254a0ecde1c6d50a"
   }
  }
 },
 "nbformat": 4,
 "nbformat_minor": 2
}
