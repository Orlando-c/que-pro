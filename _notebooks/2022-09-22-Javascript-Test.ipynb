{
 "cells": [
  {
   "cell_type": "markdown",
   "metadata": {},
   "source": [
    "# Javascript Moment\n",
    "> Wooooo, yeah baby, thats what we've been waiting for, thats what its all about, wooooo"
   ]
  },
  {
   "cell_type": "markdown",
   "metadata": {},
   "source": [
    "{% include frontendjava.html %}"
   ]
  },
  {
   "cell_type": "code",
   "execution_count": 3,
   "metadata": {},
   "outputs": [
    {
     "ename": "ReferenceError",
     "evalue": "logItType is not defined",
     "output_type": "error",
     "traceback": [
      "evalmachine.<anonymous>:20",
      "logItType(movies);",
      "^",
      "",
      "ReferenceError: logItType is not defined",
      "    at evalmachine.<anonymous>:20:1",
      "    at ContextifyScript.Script.runInThisContext (vm.js:25:33)",
      "    at Object.runInThisContext (vm.js:97:38)",
      "    at run ([eval]:1020:15)",
      "    at onRunRequest ([eval]:864:18)",
      "    at onMessage ([eval]:828:13)",
      "    at emitTwo (events.js:106:13)",
      "    at process.emit (events.js:191:7)",
      "    at process.nextTick (internal/child_process.js:758:12)",
      "    at _combinedTickCallback (internal/process/next_tick.js:73:7)"
     ]
    }
   ],
   "source": [
    "function game(name, genre, year, players) {\n",
    "    this.name = name;\n",
    "    this.genre = genre;\n",
    "    this.year = year;\n",
    "    this.players = players;\n",
    "    this.role = \"\";\n",
    "}\n",
    "\n",
    "game.prototype.setRole = function(role) {\n",
    "    this.role = role;\n",
    "}\n",
    "\n",
    "game.prototype.toJSON = function() {\n",
    "    const obj = {name: this.name, genre: this.genre, year: this.year, players: this.players, role: this.role};\n",
    "    const json = JSON.stringify(obj);\n",
    "    return json;\n",
    "}\n",
    "\n",
    "var movies = new game(\"Uncharted\", \"Action\", \"2022\", \"n/a\");\n",
    "logItType(movies);\n",
    "logItType(movies.toJSON());\n",
    "\n",
    "movies.setRole(\"Movie\");\n",
    "logItType(movies); \n",
    "logItType(movies.toJSON()); \n"
   ]
  },
  {
   "cell_type": "code",
   "execution_count": null,
   "metadata": {},
   "outputs": [],
   "source": [
    "var games = [\n",
    "    new game(\"Minecraft\", \"Sandbox\", \"2011\", \"141 Million\"),\n",
    "    new game(\"R6S\", \"FPS\", \"2015\", \"70 Million\"),\n",
    "    new game(\"Fortnite\", \"3rd Person BR\", \"2017\", \"270 Million\"),\n",
    "    new game(\"Apex\", \"1st Person BR\", \"2019\", \"~100 Million\"),\n",
    "    new game(\"Roblox\", \"Sandbox\", \"2006\", \"230 Million\"),\n",
    "    new game(\"Pokemon Go\", \"Augmented Reality\", \"2016\", \"632 Million\"),\n",
    "    new game(\"Halo Infinite\", \"FPS\", \"2021\", \"20 Million\"),\n",
    "    new game(\"Terraria\", \"Sandbox\", \"2011\", \"~66 Million\"),\n",
    "]\n",
    "\n",
    "function Theatre(movies, games){\n",
    "    movies.setRole(\"Movie\");\n",
    "    this.movies = movies;\n",
    "    this.theatre = [movies];\n",
    "    this.games = games;\n",
    "    this.games.forEach(game => { game.setRole(\"Game\"); this.theatre.push(game); });\n",
    "    this.json = [];\n",
    "    this.theatre.forEach(game => this.json.push(game.toJSON()));\n",
    "}\n",
    "\n",
    "compsci = new Theatre(movies, games);\n",
    "\n",
    "logItType(compsci.theatre);\n",
    "logItType(compsci.theatre[0].name);\n",
    "logItType(compsci.json[0]);\n",
    "logItType(JSON.parse(compsci.json[0]));"
   ]
  },
  {
   "cell_type": "code",
   "execution_count": null,
   "metadata": {},
   "outputs": [],
   "source": [
    "Classroom.prototype._toHtml = function() {\n",
    "    var style = (\n",
    "      \"display:inline-block;\" +\n",
    "      \"border: 2px solid grey;\"\n",
    "    );\n",
    "  \n",
    "    var body = \"\";\n",
    "    body += \"<tr>\";\n",
    "    body += \"<th><mark>\" + \"Name\" + \"</mark></th>\";\n",
    "    body += \"<th><mark>\" + \"Genre\" + \"</mark></th>\";\n",
    "    body += \"<th><mark>\" + \"Year\" + \"</mark></th>\";\n",
    "    body += \"<th><mark>\" + \"Players\" + \"</mark></th>\";\n",
    "    body += \"</tr>\";\n",
    "  for (var row of compsci.classroom) {\n",
    "    body += \"<tr>\";\n",
    "    body += \"<td>\" + row.name + \"</td>\";\n",
    "    body += \"<td>\" + row.genre + \"</td>\";\n",
    "    body += \"<td>\" + row.year + \"</td>\";\n",
    "    body += \"<td>\" + row.players + \"</td>\";\n",
    "    body += \"<tr>\";\n",
    "  }\n",
    "\n",
    "  return (\n",
    "    \"<div style='\" + style + \"'>\" +\n",
    "      \"<table>\" +\n",
    "        body +\n",
    "      \"</table>\" +\n",
    "    \"</div>\"\n",
    "  );\n",
    "\n",
    "};\n",
    "\n",
    "$$.html(compsci._toHtml());"
   ]
  }
 ],
 "metadata": {
  "kernelspec": {
   "display_name": "JavaScript (Node.js)",
   "language": "javascript",
   "name": "javascript"
  },
  "language_info": {
   "file_extension": ".js",
   "mimetype": "application/javascript",
   "name": "javascript",
   "version": "6.11.2"
  },
  "orig_nbformat": 4
 },
 "nbformat": 4,
 "nbformat_minor": 2
}
