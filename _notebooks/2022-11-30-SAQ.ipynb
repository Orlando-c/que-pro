{
 "cells": [
  {
   "cell_type": "markdown",
   "metadata": {},
   "source": [
    "# Short Answer Questions in AP World\n",
    "> Notes on how to write an SAQ\n",
    "\n"
   ]
  },
  {
   "cell_type": "markdown",
   "metadata": {},
   "source": [
    "### HIPA\n",
    "\n",
    "HIPA is involved in the analysis of a prompt. \n",
    "HIPA stands for \n",
    "1. Historical Context \n",
    "2. Intended Audience\n",
    "3. Purpose of the document\n",
    "4. Authors PoV\n",
    "    - Gender\n",
    "    - Education\n",
    "    - Nationality\n",
    "    - Age\n",
    "    - Profession\n",
    "    - Religion\n",
    "    - Social Status\n",
    "    - Race/Ethnicity\n",
    "\n",
    "This is very important because this can help you understand where the prompt is coming from and to better answer the question. For example...\n",
    "\n",
    "The purpose of this document is to convey the...\n",
    "The intended audience of the document is to the...\n",
    "The historical context of the document is...\n",
    "The Authors POV includes his...\n",
    "\n",
    "### PEDITs\n",
    "\n",
    "PEDIT stands for\n",
    "1. People\n",
    "2. Events\n",
    "3. Dates\n",
    "4. Ideas\n",
    "5. Things\n",
    "\n",
    "PEDITS are used as evidence or details to support your topic sentance. For example\n",
    "\n",
    "The Trans Atlantic Slave Trade caused major repercussion in the 17th century. Many natives in the Americas and from Africa were enslaved and forced to work. These could include the Bolivian silver mine, haciendas owned by Spanish officers, and sugar plantations. These also came with the added benefit of constantly being harassed, exploited, and abused for their "
   ]
  },
  {
   "cell_type": "markdown",
   "metadata": {},
   "source": [
    "### T.E.A\n",
    "\n",
    "TEA stands for Topic -> Evidence -> Analysis\n",
    "\n",
    "Topic sentance should include language from the text and overall encompass the rest of your paragraph\n",
    "For example...\n",
    "\n",
    "\"One differance/similarity between >PEDIT< and >PEDIT< in the >Date< is\"\n",
    "\"One effect of >PEDIT< on >PEDIT< in the >Date< is\""
   ]
  }
 ],
 "metadata": {
  "kernelspec": {
   "display_name": "Python 3.10.6 64-bit",
   "language": "python",
   "name": "python3"
  },
  "language_info": {
   "name": "python",
   "version": "3.10.6"
  },
  "orig_nbformat": 4,
  "vscode": {
   "interpreter": {
    "hash": "916dbcbb3f70747c44a77c7bcd40155683ae19c65e1c03b4aa3499c5328201f1"
   }
  }
 },
 "nbformat": 4,
 "nbformat_minor": 2
}
