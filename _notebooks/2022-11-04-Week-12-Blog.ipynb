{
 "cells": [
  {
   "cell_type": "markdown",
   "metadata": {},
   "source": [
    "# Week 12 Blog Review\n",
    "> Personal blog on N@TM and more"
   ]
  },
  {
   "cell_type": "markdown",
   "metadata": {},
   "source": [
    "# My experience\n",
    "\n",
    "- Personally, I liked the idea of being able to go around and see what other students are working on as well as presenting our projects to other students in the school. Presenting what our group worked on is really fun as well as seeing what we can do to improve!\n",
    "\n",
    "# What to do next\n",
    "\n",
    "- Im hoping to learn more next trimester and working on a more ambitious project. Specifically subjects like backend and server development interest me so I'm excited to look at that.\n",
    "\n",
    "# N@TM\n",
    "\n",
    "- Here are some pictures that we took at N@TM"
   ]
  },
  {
   "cell_type": "markdown",
   "metadata": {},
   "source": [
    "[Jaden taking inspo](/que-pro/_notebooks/images/image0.jpeg)"
   ]
  },
  {
   "cell_type": "markdown",
   "metadata": {},
   "source": [
    "[Colin interviewing others](/que-pro/_notebooks/images/image1.jpeg)"
   ]
  },
  {
   "cell_type": "markdown",
   "metadata": {},
   "source": [
    "[More interviewing](/que-pro/_notebooks/images/image2.jpeg)"
   ]
  },
  {
   "cell_type": "markdown",
   "metadata": {},
   "source": [
    "[Jaden taking more inspo](/que-pro/_notebooks/images/image3.jpeg)"
   ]
  },
  {
   "cell_type": "markdown",
   "metadata": {},
   "source": [
    "[Jaden taking even more inspo](/que-pro/_notebooks/images/image4.jpeg)"
   ]
  },
  {
   "cell_type": "markdown",
   "metadata": {},
   "source": [
    "[The Scrum Daddys](/que-pro/_notebooks/images/image5.jpeg)"
   ]
  },
  {
   "cell_type": "markdown",
   "metadata": {},
   "source": [
    "[Ethan likes ceramics??](/que-pro/_notebooks/images/image6.jpeg)"
   ]
  },
  {
   "cell_type": "markdown",
   "metadata": {},
   "source": [
    "[Big Eth just looking at some 3d ani](/que-pro/_notebooks/images/image7.jpeg)"
   ]
  },
  {
   "cell_type": "markdown",
   "metadata": {},
   "source": [
    "# Here are some notes we took on other groups\n",
    "\n",
    "- Code Hoots\n",
    "    - Questions are timed\n",
    "    - Kahoot coding styled game\n",
    "    - Randomized questions\n",
    "\n",
    "- MBAD\n",
    "    - NBA player API\n",
    "    - Search any team\n",
    "    - Statistics provided for best player, etc\n",
    "\n"
   ]
  },
  {
   "cell_type": "code",
   "execution_count": 2,
   "metadata": {},
   "outputs": [
    {
     "name": "stdout",
     "output_type": "stream",
     "text": [
      "No me gusta la clase de historia\n"
     ]
    }
   ],
   "source": [
    "print (\"No me gusta la clase de historia\")"
   ]
  }
 ],
 "metadata": {
  "kernelspec": {
   "display_name": "Python 3.9.12 ('base')",
   "language": "python",
   "name": "python3"
  },
  "language_info": {
   "codemirror_mode": {
    "name": "ipython",
    "version": 3
   },
   "file_extension": ".py",
   "mimetype": "text/x-python",
   "name": "python",
   "nbconvert_exporter": "python",
   "pygments_lexer": "ipython3",
   "version": "3.9.12"
  },
  "orig_nbformat": 4,
  "vscode": {
   "interpreter": {
    "hash": "30035633ff51bcc11553e39ef3b40810ee19007d8828d0abca75ce9054266ff5"
   }
  }
 },
 "nbformat": 4,
 "nbformat_minor": 2
}
