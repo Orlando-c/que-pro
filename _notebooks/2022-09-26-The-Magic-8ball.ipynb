{
 "cells": [
  {
   "cell_type": "code",
   "execution_count": null,
   "metadata": {
    "vscode": {
     "languageId": "javascript"
    }
   },
   "outputs": [],
   "source": [
    "$(document).ready(function() {\n",
    "\n",
    "var magic8ball = {};\n",
    "magic8ball.listOfAnswers = [\"No\", \"Yes\", \"I don't think so...\", \"Theres a chance\", \"Maybe \", \"Of course!\", \"Indubitably\", \"In your dreams.\"];\n",
    "\n",
    "var question = window.prompt(\"What is your question?\");\n",
    "document.write(\"You wrote\" + question);\n",
    "\n",
    "var randomNumber = Math.random();\n",
    "\n",
    "var randomNumberForListOfAnswers = randomNumber * this.listOfAnswers.length;\n",
    "\n",
    "var randomIndex = Math.floor(randomNumberForListOfAnswers);\n",
    "\n",
    "var answer = this.listOfAnswers[randomIndex];\n",
    "\n",
    "$(\"#answer\").text(answer);\n",
    "\n",
    "});\n"
   ]
  }
 ],
 "metadata": {
  "kernelspec": {
   "display_name": "Python 3.9.12 ('base')",
   "language": "python",
   "name": "python3"
  },
  "language_info": {
   "codemirror_mode": {
    "name": "ipython",
    "version": 3
   },
   "file_extension": ".py",
   "mimetype": "text/x-python",
   "name": "python",
   "nbconvert_exporter": "python",
   "pygments_lexer": "ipython3",
   "version": "3.9.12"
  },
  "orig_nbformat": 4,
  "vscode": {
   "interpreter": {
    "hash": "30035633ff51bcc11553e39ef3b40810ee19007d8828d0abca75ce9054266ff5"
   }
  }
 },
 "nbformat": 4,
 "nbformat_minor": 2
}
