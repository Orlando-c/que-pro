{
 "cells": [
  {
   "cell_type": "code",
   "execution_count": 13,
   "metadata": {},
   "outputs": [
    {
     "data": {
      "text/plain": [
       "[Function]"
      ]
     },
     "execution_count": 13,
     "metadata": {},
     "output_type": "execute_result"
    }
   ],
   "source": [
    "var magic8Ball = {};\n",
    "magic8Ball.listOfAnswers = [\"No\", \"Yes\", \"I don't think so...\", \"Theres a chance\", \"Maybe \", \"Of course!\", \"Indubitably\", \"In your dreams.\"];\n",
    "\n",
    "magic8Ball.askQuestion = function(question) {\n",
    "\n",
    "  var randomNumber = Math.random();\n",
    "\n",
    "  var randomNumberForListOfAnswers = randomNumber * this.listOfAnswers.length;\n",
    "\n",
    "  var randomIndex = Math.floor(randomNumberForListOfAnswers);\n",
    "\n",
    "  var answer = this.listOfAnswers[randomIndex];\n",
    "\n",
    "  $(\"#answer\").text(answer);\n",
    "\n",
    "  System.out.println(question);\n",
    "  prompt() = guess;\n",
    "  System.out.println(guess);\n",
    "  System.out.println(answer)\n",
    "};\n",
    "\n"
   ]
  }
 ],
 "metadata": {
  "kernelspec": {
   "display_name": "JavaScript (Node.js)",
   "language": "javascript",
   "name": "javascript"
  },
  "language_info": {
   "file_extension": ".js",
   "mimetype": "application/javascript",
   "name": "javascript",
   "version": "6.11.2"
  },
  "orig_nbformat": 4
 },
 "nbformat": 4,
 "nbformat_minor": 2
}
