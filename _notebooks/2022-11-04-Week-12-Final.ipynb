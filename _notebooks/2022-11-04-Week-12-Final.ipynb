{
 "cells": [
  {
   "cell_type": "markdown",
   "metadata": {},
   "source": [
    "# Week 12 Blog Review\n",
    "> Test review and more"
   ]
  },
  {
   "cell_type": "markdown",
   "metadata": {},
   "source": [
    "|Wrong|Section|Skill|Reason|Mistake|\n",
    "|-|-|-|-|-|\n",
    "|Q1|1.2|4.A|System of equations wrong, Result is multiplied by 3, 3 different intervals|Math conducted is wrong|\n",
    "|Q7|1.3|4.A|Unnecessary requirements in answer|Misinterpretation\n",
    "|Q14|1.4|4.C|7 provides correct answer, 6 and 8 both fall into incorrect categories|Math conducted is wrong|\n",
    "|Q16|4.1|5.A|Message doesn't have to be sent in order of packets|Unknown info|\n",
    "|Q20|2.1|1.D|There are enough 4bit combinations to store 8 directional data|Unknown info|\n",
    "|Q23|2.1|3.C|Samples are taken throughout his race and stored as data rather than selected|Thought process wrong|\n",
    "|Q24|2.1|2.B|Didn't know binary systems|Unknown info|\n",
    "|Q29|3.2|3.C|Lists can be updates easily (similar to being able to add user data and input easily)|Misinterpretation|\n",
    "|Q30|3.2|3.C|Keeping numbers in a list allow for code to just go through the line and determine|\n",
    "|Q31|3.2|3.A|myWord determines which part of the list, myChar determines character|Thought process wrong|\n",
    "|Q32|3.2|3.B|yourlist now prints mylist|Thought process wrong|\n",
    "|Q35|3.6|2.B|Forgot one answer|Missed input|\n",
    "|Q36|3.10|2.B|Multiply i by 2 to always get an even number|Math conducted is wrong|\n",
    "|Q41|3.1|4.B|R is 20, P <- R|Thought process wrong|\n",
    "|Q43|3.8|4.B|Incorrect system of operations|Math conducted is wrong|\n",
    "|Q46|3.1|4.B|In the end, both outputs are set to true|Misinterpretation|\n",
    "|Q49|3.4|4.B|(reverse(word), word)(reverse(on), on)(noon)|Misinterpretation|\n"
   ]
  },
  {
   "cell_type": "markdown",
   "metadata": {},
   "source": [
    "# Overview (Score 33/50)\n",
    "- I definitely need to review section 4 and take some notes on some sections that I missed and I will make sure to continue those skills towards trimester 2. "
   ]
  },
  {
   "cell_type": "code",
   "execution_count": 1,
   "metadata": {},
   "outputs": [
    {
     "name": "stdout",
     "output_type": "stream",
     "text": [
      "code code code\n"
     ]
    }
   ],
   "source": [
    "print (\"code code code\")"
   ]
  }
 ],
 "metadata": {
  "kernelspec": {
   "display_name": "Python 3.9.12 ('base')",
   "language": "python",
   "name": "python3"
  },
  "language_info": {
   "codemirror_mode": {
    "name": "ipython",
    "version": 3
   },
   "file_extension": ".py",
   "mimetype": "text/x-python",
   "name": "python",
   "nbconvert_exporter": "python",
   "pygments_lexer": "ipython3",
   "version": "3.9.12"
  },
  "orig_nbformat": 4,
  "vscode": {
   "interpreter": {
    "hash": "30035633ff51bcc11553e39ef3b40810ee19007d8828d0abca75ce9054266ff5"
   }
  }
 },
 "nbformat": 4,
 "nbformat_minor": 2
}
