{
 "cells": [
  {
   "cell_type": "markdown",
   "metadata": {},
   "source": [
    "# Bash \n",
    ">  What can bash do?\n",
    "\n",
    "- toc: true \n",
    "- badges: true\n",
    "- comments: true\n",
    "- categories: [Bash,week-2,APCSP]"
   ]
  },
  {
   "cell_type": "code",
   "execution_count": 31,
   "metadata": {
    "vscode": {
     "languageId": "shellscript"
    }
   },
   "outputs": [
    {
     "name": "stdout",
     "output_type": "stream",
     "text": [
      "    August 2022       \n",
      "Su Mo Tu We Th Fr Sa  \n",
      "    1  2  3  4  5  6  \n",
      " 7  8  9 10 11 12 13  \n",
      "14 15 16 17 18 19 20  \n",
      "21 22 23 24 25 26 27  \n",
      "28 29 30 31           \n",
      "                      \n",
      "Sun Aug 28 22:47:14 PDT 2022\n",
      "this is what bash can do and so much more\n"
     ]
    }
   ],
   "source": [
    "%%bash\n",
    "    cal\n",
    "\n",
    "    date\n",
    "    \n",
    "\n",
    "    \n",
    "echo \"this is what bash can do and so much more\"\n"
   ]
  },
  {
   "cell_type": "markdown",
   "metadata": {},
   "source": [
    "# Now try to use it for classes outside of APCSP!\n",
    ">By taking files from my computer and exporting it to my github!"
   ]
  },
  {
   "cell_type": "code",
   "execution_count": 35,
   "metadata": {
    "vscode": {
     "languageId": "shellscript"
    }
   },
   "outputs": [
    {
     "name": "stdout",
     "output_type": "stream",
     "text": [
      "Directory HOME/que-pro does not exist loser, common L. Lemme make it HOME/que-pro\n",
      "Directory HOME/que-pro exists.\n",
      "Directory  exists.\n",
      "Directory HOME/school/AP_Computer_Science_Principles has somehow dissapeared... weird\n",
      "Directory HOME/school/AP_Computer_Science_Principles has been prepared\n",
      "Directory HOME/school/AP_World_History has somehow dissapeared... weird\n",
      "Directory HOME/school/AP_World_History has been prepared\n",
      "Directory HOME/school/Integrated_2_B has somehow dissapeared... weird\n",
      "Directory HOME/school/Integrated_2_B has been prepared\n"
     ]
    }
   ],
   "source": [
    "%%bash\n",
    "\n",
    "export school_dir=HOME/que-pro\n",
    "export project=$school_dir/que-pro\n",
    "export school_repo=\"https://gitthub.com/Orlando-C/que-pro\"\n",
    "\n",
    "cd ~\n",
    "\n",
    "if [ ! -d $school_dir ]\n",
    "then\n",
    "    echo \"Directory $school_dir does not exist loser, common L. Lemme make it $school_dir\"\n",
    "    mkdir -p school\n",
    "fi\n",
    "echo \"Directory $school_dir exists.\" \n",
    "\n",
    "if [ ! -d $school ]\n",
    "then\n",
    "    echo \"Directory $school_dir does not exists... cloning $school_repo\"\n",
    "    cd $school_dir\n",
    "    git clone $school_repo\n",
    "    cd ~\n",
    "fi\n",
    "echo \"Directory $school exists.\" \n",
    "\n",
    "APCSP=HOME/school/AP_Computer_Science_Principles\n",
    "APWH=HOME/school/AP_World_History\n",
    "MathInt2B=HOME/school/Integrated_2_B \n",
    "\n",
    "cd ~\n",
    "\n",
    "if [ ! -d $APCSP ]\n",
    "then\n",
    "    echo \"Directory $APCSP has somehow dissapeared... weird\"\n",
    "    mkdir -p $APCSP\n",
    "    \n",
    "fi\n",
    "echo \"Directory $APCSP has been prepared\"\n",
    "\n",
    "if [ ! -d $APWH ]\n",
    "then\n",
    "    echo \"Directory $APWH has somehow dissapeared... weird\"\n",
    "    \n",
    "fi\n",
    "echo \"Directory $APWH has been prepared\"\n",
    "\n",
    "if [ ! -d $MathInt2B ]\n",
    "then\n",
    "    echo \"Directory $MathInt2B has somehow dissapeared... weird\"\n",
    "    \n",
    "fi\n",
    "echo \"Directory $MathInt2B has been prepared\"\n",
    "    "
   ]
  }
 ],
 "metadata": {
  "kernelspec": {
   "display_name": "Python 3.8.10 64-bit",
   "language": "python",
   "name": "python3"
  },
  "language_info": {
   "codemirror_mode": {
    "name": "ipython",
    "version": 3
   },
   "file_extension": ".py",
   "mimetype": "text/x-python",
   "name": "python",
   "nbconvert_exporter": "python",
   "pygments_lexer": "ipython3",
   "version": "3.8.10"
  },
  "orig_nbformat": 4,
  "vscode": {
   "interpreter": {
    "hash": "916dbcbb3f70747c44a77c7bcd40155683ae19c65e1c03b4aa3499c5328201f1"
   }
  }
 },
 "nbformat": 4,
 "nbformat_minor": 2
}
