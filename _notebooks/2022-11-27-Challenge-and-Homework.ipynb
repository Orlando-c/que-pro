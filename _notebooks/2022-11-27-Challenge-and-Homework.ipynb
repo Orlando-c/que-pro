{
 "cells": [
  {
   "cell_type": "markdown",
   "metadata": {},
   "source": [
    "# 3.1 and 3.2 Challange and HW\n",
    "> The homework assignment and challenge in our lesson plan\n",
    "\n",
    "- toc: true \n",
    "- comments: true\n",
    "- categories: [jupyter, Week 13]"
   ]
  },
  {
   "cell_type": "markdown",
   "metadata": {},
   "source": [
    "### Notes on 3.1 and 3.2\n",
    "\n",
    "- Key Details\n",
    "    - Variables are abstractions within programs which represent a value\n",
    "    - Values can be individual data points or a list/collection that contains many data values\n",
    "    - Types of data (ie; numbers, Booleans (T/F), lists, and strings)\n",
    "    - Languages (Python and Javascript)\n",
    "    - Transformations of languages to HTML\n",
    "\n",
    "    - Elements are unique, individual values \n",
    "    - Lists are made up of elements\n",
    "    - Strings are made of repeating characters instead of elements\n",
    "    - Data abstraction uses a list by taking specific data elements from a list and organizing into a whole, less complex representation of the values such as a table in windows Excel which uses similar function"
   ]
  },
  {
   "cell_type": "markdown",
   "metadata": {},
   "source": [
    "## Challenge\n",
    "\n",
    "The list given contains multiple numbers with different values. There are also 2 variables that define the minimum and maximum valid values. Given these variables, output the values that do not fit into the valid range as well as their index values.\n"
   ]
  },
  {
   "cell_type": "code",
   "execution_count": 8,
   "metadata": {},
   "outputs": [
    {
     "name": "stdout",
     "output_type": "stream",
     "text": [
      "the index of 104 is at place 1 out of 13 in the list\n",
      "the index of 101 is at place 2 out of 13 in the list\n",
      "the index of 105 is at place 4 out of 13 in the list\n",
      "the index of 103 is at place 6 out of 13 in the list\n",
      "the index of 107 is at place 8 out of 13 in the list\n",
      "the index of 106 is at place 11 out of 13 in the list\n",
      "the index of 102 is at place 12 out of 13 in the list\n",
      "the index of 108 is at place 13 out of 13 in the list\n"
     ]
    }
   ],
   "source": [
    "data = [104, 101, 4, 105, 308, 103, 5, 107,\n",
    "        100, 306, 106, 102, 108]    # list of the different numerical values\n",
    "\n",
    "for a in data:\n",
    "        if a > 100:\n",
    "                if a < 200:\n",
    "                        ind = data.index(a)\n",
    "                        print(\"the index of \" + str(a) + \" is at place \" + str(ind + 1) + \" out of 13 in the list\")\n",
    "                else:\n",
    "                        continue\n",
    "        else:\n",
    "                continue\n",
    "\n"
   ]
  },
  {
   "cell_type": "markdown",
   "metadata": {},
   "source": [
    "## Homework/Hacks\n",
    "\n",
    "The list given contains 4 album names - Welcome to my Nightmare, Bad Company, Nightflight, More Mayhem - and each album contains at least 4 songs within another list. Given this, write a block of code that enables users to input in integer values that correspond to the albums and songs - Welcome to my Nightmare is 1, Bad Company is 2, etc. - Then, a sentence is outputted that says Playing _______ based on which song was chosen using the numbers inputted by the user that corresponds to each song."
   ]
  },
  {
   "cell_type": "code",
   "execution_count": 7,
   "metadata": {},
   "outputs": [
    {
     "name": "stdout",
     "output_type": "stream",
     "text": [
      "Now playing ~ Keeping a Rendezvous\n"
     ]
    }
   ],
   "source": [
    "albums = [\n",
    "    (\"Welcome to my Nightmare\", \"Alice Cooper\", 1975,   # First album list\n",
    "     [\n",
    "         (1, \"Welcome to my Nightmare\"),\n",
    "         (2, \"Devil's Food\"),\n",
    "         (3, \"The Black Widow\"),\n",
    "         (4, \"Some Folks\"),\n",
    "         (5, \"Only Women Bleed\"),\n",
    "     ]\n",
    "     ),\n",
    "    (\"Bad Company\", \"Bad Company\", 1974,   # Second album list\n",
    "     [\n",
    "         (1, \"Can't Get Enough\"),\n",
    "         (2, \"Rock Steady\"),\n",
    "         (3, \"Ready for Love\"),\n",
    "         (4, \"Don't Let Me Down\"),\n",
    "         (5, \"Bad Company\"),\n",
    "         (6, \"The Way I Choose\"),\n",
    "         (7, \"Movin' On\"),\n",
    "         (8, \"Seagull\"),\n",
    "     ]\n",
    "     ),\n",
    "    (\"Nightflight\", \"Budgie\", 1981,\n",
    "     [\n",
    "         (1, \"I Turned to Stone\"),\n",
    "         (2, \"Keeping a Rendezvous\"),\n",
    "         (3, \"Reaper of the Glory\"),\n",
    "         (4, \"She Used Me Up\"),\n",
    "     ]\n",
    "     ),\n",
    "    (\"More Mayhem\", \"Imelda May\", 2011,\n",
    "     [\n",
    "         (1, \"Pulling the Rug\"),\n",
    "         (2, \"Psycho\"),\n",
    "         (3, \"Mayhem\"),\n",
    "         (4, \"Kentish Town Waltz\"),\n",
    "     ]\n",
    "     ),\n",
    "]\n",
    "\n",
    "album = input(\"enter album selection\")\n",
    "song = input(\"enter song selection\")\n",
    "print(\"Now playing ~ \" + albums[int(album) - 1][3][int(song) - 1][1])"
   ]
  }
 ],
 "metadata": {
  "kernelspec": {
   "display_name": "Python 3.8.10 64-bit",
   "language": "python",
   "name": "python3"
  },
  "language_info": {
   "codemirror_mode": {
    "name": "ipython",
    "version": 3
   },
   "file_extension": ".py",
   "mimetype": "text/x-python",
   "name": "python",
   "nbconvert_exporter": "python",
   "pygments_lexer": "ipython3",
   "version": "3.10.6"
  },
  "orig_nbformat": 4,
  "vscode": {
   "interpreter": {
    "hash": "916dbcbb3f70747c44a77c7bcd40155683ae19c65e1c03b4aa3499c5328201f1"
   }
  }
 },
 "nbformat": 4,
 "nbformat_minor": 2
}
