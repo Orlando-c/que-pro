{
 "cells": [
  {
   "cell_type": "markdown",
   "metadata": {},
   "source": [
    "# A quiz (using python) on Star Wars!\n",
    "> You think you know more than me? Lets find out!\n",
    "\n",
    "- toc: true \n",
    "- badges: true\n",
    "- comments: true\n",
    "- categories: [Python,week-2,APCSP]"
   ]
  },
  {
   "cell_type": "code",
   "execution_count": 1,
   "metadata": {},
   "outputs": [
    {
     "name": "stdout",
     "output_type": "stream",
     "text": [
      "Welcome to my quiz on Star Wars! Test your knowledge to see if you are a true Star Wars nerd! So everything runs smoothly, please answer in all lowercase. Thanks and have fun!\n",
      "For  0  points(s): Level 0: Who is Luke Skywalker's father?\n",
      "You got it! You answered anakin skywalker for 0 point(s), Your point total is 0 point(s)\n",
      "For  1  points(s): Level 1: What trilogy is the Death Star primarily in?\n",
      "Wrong! I find your lack of faith disturbing. You answered j] for 1 point(s), The correct response was original trilogy You currently have 0 point(s)\n",
      "For  2  points(s): Level 2: What is Finn's stormtrooper code name?\n",
      "You got it! You answered fn-2187 for 2 point(s), Your point total is 2 point(s)\n",
      "For  4  points(s): Level 3: Where did Anakin and Obiwan duel Darth Maul?\n",
      "You got it! You answered naboo for 4 point(s), Your point total is 6 point(s)\n",
      "For  8  points(s): Level 4: What is Anakin's midi-chlorian count (aproximately)?\n",
      "You got it! You answered 27000 for 8 point(s), Your point total is 14 point(s)\n",
      "For  12  points(s): Level 5: Of what species is Yoda?\n",
      "You got it! You answered unknown for 12 point(s), Your point total is 26 point(s)\n",
      "The Empire wants YOU to join! You recieved a total of 26 point(s) out of 27 points\n"
     ]
    }
   ],
   "source": [
    "print(\"Welcome to my quiz on Star Wars! Test your knowledge to see if you are a true Star Wars nerd! So everything runs smoothly, please answer in all lowercase. Thanks and have fun!\")\n",
    "\n",
    "#Define lists of questions, answers and point values\n",
    "\n",
    "questions = [\n",
    "    \"Level 0: Who is Luke Skywalker's father?\", \"Level 1: What trilogy is the Death Star primarily in?\", \"Level 2: What is Finn's stormtrooper code name?\", \"Level 3: Where did Anakin and Obiwan duel Darth Maul?\", \"Level 4: What is Anakin's midi-chlorian count (aproximately)?\", \"Level 5: Of what species is Yoda?\"]\n",
    "answers = [\n",
    "    \"anakin skywalker\", \"original trilogy\", \"fn-2187\", \"naboo\", \"27000\", \"unknown\"]\n",
    "pointValues = [ 0, 1, 2, 4, 8, 12]\n",
    "\n",
    "#Variables\n",
    "level = 0\n",
    "points = 0\n",
    "\n",
    "for question in questions:\n",
    "    print(\"For \", pointValues[level], \" points(s): \" + question)\n",
    "    guess = str(input())\n",
    "\n",
    "    if(guess == answers[level]):\n",
    "        points+=pointValues[level]\n",
    "        print(\"You got it! You answered \" + guess +\" for \"+ str(pointValues[level]) + \" point(s), Your point total is \" +str(points) + \" point(s)\")\n",
    "    else:\n",
    "        print(\"Wrong! I find your lack of faith disturbing. You answered \" + guess +\" for \"+ str(pointValues[level]) + \" point(s), The correct response was \" + answers[level]+ \" You currently have \" + str(points) + \" point(s)\")\n",
    "    \n",
    "    level+=1\n",
    "\n",
    "print(\"The Empire wants YOU to join! You recieved a total of \"+str(points) + \" point(s) out of 27 points\"  ) "
   ]
  }
 ],
 "metadata": {
  "kernelspec": {
   "display_name": "Python 3.8.10 64-bit",
   "language": "python",
   "name": "python3"
  },
  "language_info": {
   "codemirror_mode": {
    "name": "ipython",
    "version": 3
   },
   "file_extension": ".py",
   "mimetype": "text/x-python",
   "name": "python",
   "nbconvert_exporter": "python",
   "pygments_lexer": "ipython3",
   "version": "3.8.10"
  },
  "orig_nbformat": 4,
  "vscode": {
   "interpreter": {
    "hash": "916dbcbb3f70747c44a77c7bcd40155683ae19c65e1c03b4aa3499c5328201f1"
   }
  }
 },
 "nbformat": 4,
 "nbformat_minor": 2
}
