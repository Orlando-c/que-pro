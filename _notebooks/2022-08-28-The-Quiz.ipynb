{
 "cells": [
  {
   "cell_type": "markdown",
   "metadata": {},
   "source": [
    "# A quiz (using python) on Star Wars!\n",
    "> You think you know more than me? Lets find out!\n",
    "\n",
    "- toc: true \n",
    "- badges: true\n",
    "- comments: true\n",
    "- categories: [Python,week-2,APCSP]"
   ]
  },
  {
   "cell_type": "code",
   "execution_count": 3,
   "metadata": {},
   "outputs": [
    {
     "name": "stdout",
     "output_type": "stream",
     "text": [
      "Welcome to my quiz on Star Wars! Test your knowledge to see if you are a true Star Wars nerd! So everything runs smoothly, please answer in all lowercase. Thanks and have fun!\n",
      "For  250  Midi-Chlorian: Level 0: Who is Luke Skywalker's father?\n"
     ]
    }
   ],
   "source": [
    "from tokenize import Ignore\n",
    "\n",
    "\n",
    "print(\"Welcome to my quiz on Star Wars! Test your knowledge to see if you are a true Star Wars nerd! So everything runs smoothly, please answer in all lowercase. Thanks and have fun!\")\n",
    "\n",
    "\n",
    "questions = [\n",
    "    \"Level 0: Who is Luke Skywalker's father?\", \"Level 1: What trilogy is the Death Star primarily in?\", \"Level 2: What is Finn's stormtrooper code name?\", \"Level 3: Where did Anakin and Obiwan duel Darth Maul?\", \"Level 4: What is Anakin's midi-chlorian count (aproximately)?\", \"Level 5: Of what species is Yoda?\"]\n",
    "answers = [\n",
    "    \"anakin skywalker\", \"original trilogy\", \"fn-2187\", \"naboo\", \"27000\", \"unknown\"]\n",
    "MidichlorianValues = [ 250, 750, 2000, 4000, 8000, 12000]\n",
    "\n",
    "#Variables\n",
    "level = 0\n",
    "Midichlorian = 0\n",
    "\n",
    "for question in questions:\n",
    "    print(\"For \", MidichlorianValues[level], \" Midi-Chlorian: \" + question)\n",
    "    guess = str(input())\n",
    "\n",
    "    if(guess == answers[level]):\n",
    "        Midichlorian+=MidichlorianValues[level]\n",
    "        print(\"You got it! You answered \" + guess +\" for \"+ str(MidichlorianValues[level]) + \" Midi-Chlorian, Your Midi-Chlorian total is \" +str(Midichlorian) + \" Midi-Chlorian \")\n",
    "    else:\n",
    "        print(\"Wrong! I find your lack of faith disturbing. You answered \" + guess +\" for \"+ str(MidichlorianValues[level]) + \" Midi-Chlorian, The correct response was \" + answers[level]+ \" You currently have \" + str(Midichlorian) + \" Midi-Chlorian\")\n",
    "    \n",
    "    level+=1\n",
    "\n",
    "    if(level>5):\n",
    "        if(Midichlorian>17000):\n",
    "            print(\"The Empire wants YOU to join! You recieved a total of \"+str(Midichlorian) + \" Midi-Chlorian out of 27000 possible Midi-Chlorian\") \n",
    "        else:\n",
    "            print(\"You've been Jedi mind-tricked! You recieved a total of \"+str(Midichlorian) + \" Midi-chlorian out of 27000 possible Midi-Chlorian\")\n",
    "    else: \n",
    "        Ignore\n"
   ]
  },
  {
   "cell_type": "code",
   "execution_count": 1,
   "metadata": {},
   "outputs": [
    {
     "name": "stdout",
     "output_type": "stream",
     "text": [
      "/root/vscode/que-pro/_notebooks\n"
     ]
    },
    {
     "data": {
      "text/html": [
       "<img src=\"images/ineedyoustarwars.jpg\" width=\"183\" height=\"275\"/>"
      ],
      "text/plain": [
       "<IPython.core.display.Image object>"
      ]
     },
     "execution_count": 1,
     "metadata": {},
     "output_type": "execute_result"
    }
   ],
   "source": [
    "!pwd\n",
    "from IPython.display import Image\n",
    "Image(url=\"images/ineedyoustarwars.jpg\", width=183, height=275)"
   ]
  }
 ],
 "metadata": {
  "kernelspec": {
   "display_name": "Python 3.8.10 64-bit",
   "language": "python",
   "name": "python3"
  },
  "language_info": {
   "codemirror_mode": {
    "name": "ipython",
    "version": 3
   },
   "file_extension": ".py",
   "mimetype": "text/x-python",
   "name": "python",
   "nbconvert_exporter": "python",
   "pygments_lexer": "ipython3",
   "version": "3.8.10"
  },
  "orig_nbformat": 4,
  "vscode": {
   "interpreter": {
    "hash": "916dbcbb3f70747c44a77c7bcd40155683ae19c65e1c03b4aa3499c5328201f1"
   }
  }
 },
 "nbformat": 4,
 "nbformat_minor": 2
}
