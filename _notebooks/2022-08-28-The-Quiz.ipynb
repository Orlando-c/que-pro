{
 "cells": [
  {
   "cell_type": "markdown",
   "metadata": {},
   "source": [
    "# A quiz (using python) on Star Wars!\n",
    "> You think you know more than me? Lets find out!\n",
    "\n",
    "- toc: true \n",
    "- badges: true\n",
    "- comments: true\n",
    "- categories: [Python,week-2,APCSP]"
   ]
  },
  {
   "cell_type": "code",
   "execution_count": 2,
   "metadata": {},
   "outputs": [
    {
     "name": "stdout",
     "output_type": "stream",
     "text": [
      "Welcome to my quiz on Star Wars! Test your knowledge to see if you are a true Star Wars nerd! So everything runs smoothly, please answer in all lowercase. Thanks and have fun!\n",
      "For  250  Midi-Chlorian: Level 0: Who is Luke Skywalker's father?\n",
      "You got it! You answered anakin skywalker for 250 Midi-Chlorian, Your Midi-Chlorian total is 250 Midi-Chlorian \n",
      "For  750  Midi-Chlorian: Level 1: What trilogy is the Death Star primarily in?\n",
      "You got it! You answered original trilogy for 750 Midi-Chlorian, Your Midi-Chlorian total is 1000 Midi-Chlorian \n",
      "For  2000  Midi-Chlorian: Level 2: What is Finn's stormtrooper code name?\n",
      "You got it! You answered fn-2187 for 2000 Midi-Chlorian, Your Midi-Chlorian total is 3000 Midi-Chlorian \n",
      "For  4000  Midi-Chlorian: Level 3: Where did Anakin and Obiwan duel Darth Maul?\n",
      "You got it! You answered naboo for 4000 Midi-Chlorian, Your Midi-Chlorian total is 7000 Midi-Chlorian \n",
      "For  8000  Midi-Chlorian: Level 4: What is Anakin's midi-chlorian count (aproximately)?\n",
      "You got it! You answered 27000 for 8000 Midi-Chlorian, Your Midi-Chlorian total is 15000 Midi-Chlorian \n",
      "For  12000  Midi-Chlorian: Level 5: Of what species is Yoda?\n",
      "You got it! You answered unknown for 12000 Midi-Chlorian, Your Midi-Chlorian total is 27000 Midi-Chlorian \n",
      "The Empire wants YOU to join! You recieved a total of 27000 Midi-Chlorian out of 27000 possible Midi-Chlorian\n"
     ]
    }
   ],
   "source": [
    "print(\"Welcome to my quiz on Star Wars! Test your knowledge to see if you are a true Star Wars nerd! So everything runs smoothly, please answer in all lowercase. Thanks and have fun!\")\n",
    "\n",
    "#Define lists of questions, answers and point values\n",
    "\n",
    "questions = [\n",
    "    \"Level 0: Who is Luke Skywalker's father?\", \"Level 1: What trilogy is the Death Star primarily in?\", \"Level 2: What is Finn's stormtrooper code name?\", \"Level 3: Where did Anakin and Obiwan duel Darth Maul?\", \"Level 4: What is Anakin's midi-chlorian count (aproximately)?\", \"Level 5: Of what species is Yoda?\"]\n",
    "answers = [\n",
    "    \"anakin skywalker\", \"original trilogy\", \"fn-2187\", \"naboo\", \"27000\", \"unknown\"]\n",
    "MidichlorianValues = [ 250, 750, 2000, 4000, 8000, 12000]\n",
    "\n",
    "#Variables\n",
    "level = 0\n",
    "Midichlorian = 0\n",
    "\n",
    "for question in questions:\n",
    "    print(\"For \", MidichlorianValues[level], \" Midi-Chlorian: \" + question)\n",
    "    guess = str(input())\n",
    "\n",
    "    if(guess == answers[level]):\n",
    "        Midichlorian+=MidichlorianValues[level]\n",
    "        print(\"You got it! You answered \" + guess +\" for \"+ str(MidichlorianValues[level]) + \" Midi-Chlorian, Your Midi-Chlorian total is \" +str(Midichlorian) + \" Midi-Chlorian \")\n",
    "    else:\n",
    "        print(\"Wrong! I find your lack of faith disturbing. You answered \" + guess +\" for \"+ str(MidichlorianValues[level]) + \" Midi-Chlorian, The correct response was \" + answers[level]+ \" You currently have \" + str(Midichlorian) + \" Midi-Chlorian\")\n",
    "    \n",
    "    level+=1\n",
    "\n",
    "print(\"The Empire wants YOU to join! You recieved a total of \"+str(Midichlorian) + \" Midi-Chlorian out of 27000 possible Midi-Chlorian\"  ) "
   ]
  }
 ],
 "metadata": {
  "kernelspec": {
   "display_name": "Python 3.8.10 64-bit",
   "language": "python",
   "name": "python3"
  },
  "language_info": {
   "codemirror_mode": {
    "name": "ipython",
    "version": 3
   },
   "file_extension": ".py",
   "mimetype": "text/x-python",
   "name": "python",
   "nbconvert_exporter": "python",
   "pygments_lexer": "ipython3",
   "version": "3.8.10"
  },
  "orig_nbformat": 4,
  "vscode": {
   "interpreter": {
    "hash": "916dbcbb3f70747c44a77c7bcd40155683ae19c65e1c03b4aa3499c5328201f1"
   }
  }
 },
 "nbformat": 4,
 "nbformat_minor": 2
}
