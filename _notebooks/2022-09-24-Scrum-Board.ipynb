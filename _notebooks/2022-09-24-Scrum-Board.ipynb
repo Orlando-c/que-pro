{
 "cells": [
  {
   "cell_type": "markdown",
   "metadata": {},
   "source": [
    "# Week 5 Assignment Scrum Board\n",
    ">Week 5 Assignment Scrum Board and Agile Methodology\n",
    "\n",
    "- toc: true \n",
    "- badges: true\n",
    "- comments: true\n",
    "- categories: [Python,Markdown,week-5,APCSP]"
   ]
  },
  {
   "cell_type": "markdown",
   "metadata": {},
   "source": [
    "|To Do|Work In Progress|Completed|Deployed|Reviewed|\n",
    "|-|-|-|-|-|\n",
    "|-|Adding page to flask portfolio|-|-|Agile Methodology Poster|"
   ]
  },
  {
   "cell_type": "code",
   "execution_count": 2,
   "metadata": {},
   "outputs": [
    {
     "name": "stdout",
     "output_type": "stream",
     "text": [
      "/home/theca/vscode/que-pro/_notebooks\n"
     ]
    },
    {
     "data": {
      "text/html": [
       "<img src=\"images/af.jpg\" width=\"864\" height=\"1152\"/>"
      ],
      "text/plain": [
       "<IPython.core.display.Image object>"
      ]
     },
     "execution_count": 2,
     "metadata": {},
     "output_type": "execute_result"
    }
   ],
   "source": [
    "!pwd\n",
    "from IPython.display import Image\n",
    "Image(url=\"images/af.jpg\", width=864, height=1152)"
   ]
  }
 ],
 "metadata": {
  "kernelspec": {
   "display_name": "Python 3.9.12 ('base')",
   "language": "python",
   "name": "python3"
  },
  "language_info": {
   "codemirror_mode": {
    "name": "ipython",
    "version": 3
   },
   "file_extension": ".py",
   "mimetype": "text/x-python",
   "name": "python",
   "nbconvert_exporter": "python",
   "pygments_lexer": "ipython3",
   "version": "3.9.12"
  },
  "orig_nbformat": 4,
  "vscode": {
   "interpreter": {
    "hash": "30035633ff51bcc11553e39ef3b40810ee19007d8828d0abca75ce9054266ff5"
   }
  }
 },
 "nbformat": 4,
 "nbformat_minor": 2
}
